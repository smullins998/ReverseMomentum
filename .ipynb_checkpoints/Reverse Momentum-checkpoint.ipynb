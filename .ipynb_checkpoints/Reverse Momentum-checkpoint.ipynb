{
 "cells": [
  {
   "cell_type": "markdown",
   "id": "18fac18f",
   "metadata": {},
   "source": [
    "<h1> Let's set up our test and hypothesis... H0 = Markets are efficient and Equities are not oversold off of these events. HA = Equities are oversold off the back of major adverse events (earnings, geopolitical events, ect...).  </h1>"
   ]
  },
  {
   "cell_type": "markdown",
   "id": "89382750",
   "metadata": {},
   "source": [
    "<h1> Let's get some stock data to backtest and model off of. Nasdaq stocks with >5bn in market cap </h1"
   ]
  },
  {
   "cell_type": "code",
   "execution_count": 1,
   "id": "2907138d",
   "metadata": {},
   "outputs": [],
   "source": [
    "import pandas as pd\n",
    "tickers = pd.read_csv('nasdaq.csv')\n",
    "tickers = tickers[tickers['Market Cap'] > 5e+9]\n",
    "ticker_list = tickers.Symbol.to_list()"
   ]
  },
  {
   "cell_type": "markdown",
   "id": "40440f00",
   "metadata": {},
   "source": [
    "<h1> Get the pct_change for each stock today </h1>"
   ]
  },
  {
   "cell_type": "code",
   "execution_count": 2,
   "id": "b95b5c0e",
   "metadata": {},
   "outputs": [
    {
     "name": "stderr",
     "output_type": "stream",
     "text": [
      "  2%|█                                        | 28/1144 [00:03<02:44,  6.79it/s]"
     ]
    },
    {
     "name": "stdout",
     "output_type": "stream",
     "text": [
      "error with AEM\n"
     ]
    },
    {
     "name": "stderr",
     "output_type": "stream",
     "text": [
      "  3%|█▎                                       | 38/1144 [00:05<02:13,  8.26it/s]"
     ]
    },
    {
     "name": "stdout",
     "output_type": "stream",
     "text": [
      "error with AGR\n"
     ]
    },
    {
     "name": "stderr",
     "output_type": "stream",
     "text": [
      "  6%|██▋                                      | 74/1144 [00:09<02:11,  8.12it/s]"
     ]
    },
    {
     "name": "stdout",
     "output_type": "stream",
     "text": [
      "error with APA\n"
     ]
    },
    {
     "name": "stderr",
     "output_type": "stream",
     "text": [
      "  7%|██▊                                      | 79/1144 [00:09<01:43, 10.31it/s]AQUA: No price data found, symbol may be delisted (period=1mo)\n",
      "  7%|██▉                                      | 81/1144 [00:09<01:39, 10.67it/s]"
     ]
    },
    {
     "name": "stdout",
     "output_type": "stream",
     "text": [
      "error with AQUA\n"
     ]
    },
    {
     "name": "stderr",
     "output_type": "stream",
     "text": [
      "  8%|███▏                                     | 88/1144 [00:10<02:05,  8.43it/s]\n"
     ]
    },
    {
     "ename": "KeyboardInterrupt",
     "evalue": "",
     "output_type": "error",
     "traceback": [
      "\u001b[0;31m---------------------------------------------------------------------------\u001b[0m",
      "\u001b[0;31mKeyboardInterrupt\u001b[0m                         Traceback (most recent call last)",
      "Cell \u001b[0;32mIn[2], line 8\u001b[0m\n\u001b[1;32m      5\u001b[0m ticker_ret \u001b[38;5;241m=\u001b[39m []\n\u001b[1;32m      6\u001b[0m ticker_loop \u001b[38;5;241m=\u001b[39m []\n\u001b[0;32m----> 8\u001b[0m \u001b[38;5;28;01mfor\u001b[39;00m i \u001b[38;5;129;01min\u001b[39;00m tqdm(tickers\u001b[38;5;241m.\u001b[39mSymbol):\n\u001b[1;32m      9\u001b[0m     \u001b[38;5;28;01mtry\u001b[39;00m:\n\u001b[1;32m     10\u001b[0m         ticker_symbol \u001b[38;5;241m=\u001b[39m i  \u001b[38;5;66;03m# Replace with your desired stock symbol\u001b[39;00m\n",
      "File \u001b[0;32m/Library/Frameworks/Python.framework/Versions/3.11/lib/python3.11/site-packages/tqdm/std.py:1188\u001b[0m, in \u001b[0;36mtqdm.__iter__\u001b[0;34m(self)\u001b[0m\n\u001b[1;32m   1186\u001b[0m dt \u001b[38;5;241m=\u001b[39m cur_t \u001b[38;5;241m-\u001b[39m last_print_t\n\u001b[1;32m   1187\u001b[0m \u001b[38;5;28;01mif\u001b[39;00m dt \u001b[38;5;241m>\u001b[39m\u001b[38;5;241m=\u001b[39m mininterval \u001b[38;5;129;01mand\u001b[39;00m cur_t \u001b[38;5;241m>\u001b[39m\u001b[38;5;241m=\u001b[39m min_start_t:\n\u001b[0;32m-> 1188\u001b[0m     \u001b[38;5;28;43mself\u001b[39;49m\u001b[38;5;241;43m.\u001b[39;49m\u001b[43mupdate\u001b[49m\u001b[43m(\u001b[49m\u001b[43mn\u001b[49m\u001b[43m \u001b[49m\u001b[38;5;241;43m-\u001b[39;49m\u001b[43m \u001b[49m\u001b[43mlast_print_n\u001b[49m\u001b[43m)\u001b[49m\n\u001b[1;32m   1189\u001b[0m     last_print_n \u001b[38;5;241m=\u001b[39m \u001b[38;5;28mself\u001b[39m\u001b[38;5;241m.\u001b[39mlast_print_n\n\u001b[1;32m   1190\u001b[0m     last_print_t \u001b[38;5;241m=\u001b[39m \u001b[38;5;28mself\u001b[39m\u001b[38;5;241m.\u001b[39mlast_print_t\n",
      "File \u001b[0;32m/Library/Frameworks/Python.framework/Versions/3.11/lib/python3.11/site-packages/tqdm/std.py:1239\u001b[0m, in \u001b[0;36mtqdm.update\u001b[0;34m(self, n)\u001b[0m\n\u001b[1;32m   1237\u001b[0m     \u001b[38;5;28mself\u001b[39m\u001b[38;5;241m.\u001b[39m_ema_dn(dn)\n\u001b[1;32m   1238\u001b[0m     \u001b[38;5;28mself\u001b[39m\u001b[38;5;241m.\u001b[39m_ema_dt(dt)\n\u001b[0;32m-> 1239\u001b[0m \u001b[38;5;28;43mself\u001b[39;49m\u001b[38;5;241;43m.\u001b[39;49m\u001b[43mrefresh\u001b[49m\u001b[43m(\u001b[49m\u001b[43mlock_args\u001b[49m\u001b[38;5;241;43m=\u001b[39;49m\u001b[38;5;28;43mself\u001b[39;49m\u001b[38;5;241;43m.\u001b[39;49m\u001b[43mlock_args\u001b[49m\u001b[43m)\u001b[49m\n\u001b[1;32m   1240\u001b[0m \u001b[38;5;28;01mif\u001b[39;00m \u001b[38;5;28mself\u001b[39m\u001b[38;5;241m.\u001b[39mdynamic_miniters:\n\u001b[1;32m   1241\u001b[0m     \u001b[38;5;66;03m# If no `miniters` was specified, adjust automatically to the\u001b[39;00m\n\u001b[1;32m   1242\u001b[0m     \u001b[38;5;66;03m# maximum iteration rate seen so far between two prints.\u001b[39;00m\n\u001b[1;32m   1243\u001b[0m     \u001b[38;5;66;03m# e.g.: After running `tqdm.update(5)`, subsequent\u001b[39;00m\n\u001b[1;32m   1244\u001b[0m     \u001b[38;5;66;03m# calls to `tqdm.update()` will only cause an update after\u001b[39;00m\n\u001b[1;32m   1245\u001b[0m     \u001b[38;5;66;03m# at least 5 more iterations.\u001b[39;00m\n\u001b[1;32m   1246\u001b[0m     \u001b[38;5;28;01mif\u001b[39;00m \u001b[38;5;28mself\u001b[39m\u001b[38;5;241m.\u001b[39mmaxinterval \u001b[38;5;129;01mand\u001b[39;00m dt \u001b[38;5;241m>\u001b[39m\u001b[38;5;241m=\u001b[39m \u001b[38;5;28mself\u001b[39m\u001b[38;5;241m.\u001b[39mmaxinterval:\n",
      "File \u001b[0;32m/Library/Frameworks/Python.framework/Versions/3.11/lib/python3.11/site-packages/tqdm/std.py:1344\u001b[0m, in \u001b[0;36mtqdm.refresh\u001b[0;34m(self, nolock, lock_args)\u001b[0m\n\u001b[1;32m   1342\u001b[0m     \u001b[38;5;28;01melse\u001b[39;00m:\n\u001b[1;32m   1343\u001b[0m         \u001b[38;5;28mself\u001b[39m\u001b[38;5;241m.\u001b[39m_lock\u001b[38;5;241m.\u001b[39macquire()\n\u001b[0;32m-> 1344\u001b[0m \u001b[38;5;28;43mself\u001b[39;49m\u001b[38;5;241;43m.\u001b[39;49m\u001b[43mdisplay\u001b[49m\u001b[43m(\u001b[49m\u001b[43m)\u001b[49m\n\u001b[1;32m   1345\u001b[0m \u001b[38;5;28;01mif\u001b[39;00m \u001b[38;5;129;01mnot\u001b[39;00m nolock:\n\u001b[1;32m   1346\u001b[0m     \u001b[38;5;28mself\u001b[39m\u001b[38;5;241m.\u001b[39m_lock\u001b[38;5;241m.\u001b[39mrelease()\n",
      "File \u001b[0;32m/Library/Frameworks/Python.framework/Versions/3.11/lib/python3.11/site-packages/tqdm/std.py:1492\u001b[0m, in \u001b[0;36mtqdm.display\u001b[0;34m(self, msg, pos)\u001b[0m\n\u001b[1;32m   1490\u001b[0m \u001b[38;5;28;01mif\u001b[39;00m pos:\n\u001b[1;32m   1491\u001b[0m     \u001b[38;5;28mself\u001b[39m\u001b[38;5;241m.\u001b[39mmoveto(pos)\n\u001b[0;32m-> 1492\u001b[0m \u001b[38;5;28;43mself\u001b[39;49m\u001b[38;5;241;43m.\u001b[39;49m\u001b[43msp\u001b[49m\u001b[43m(\u001b[49m\u001b[38;5;28;43mself\u001b[39;49m\u001b[38;5;241;43m.\u001b[39;49m\u001b[38;5;21;43m__str__\u001b[39;49m\u001b[43m(\u001b[49m\u001b[43m)\u001b[49m\u001b[43m \u001b[49m\u001b[38;5;28;43;01mif\u001b[39;49;00m\u001b[43m \u001b[49m\u001b[43mmsg\u001b[49m\u001b[43m \u001b[49m\u001b[38;5;129;43;01mis\u001b[39;49;00m\u001b[43m \u001b[49m\u001b[38;5;28;43;01mNone\u001b[39;49;00m\u001b[43m \u001b[49m\u001b[38;5;28;43;01melse\u001b[39;49;00m\u001b[43m \u001b[49m\u001b[43mmsg\u001b[49m\u001b[43m)\u001b[49m\n\u001b[1;32m   1493\u001b[0m \u001b[38;5;28;01mif\u001b[39;00m pos:\n\u001b[1;32m   1494\u001b[0m     \u001b[38;5;28mself\u001b[39m\u001b[38;5;241m.\u001b[39mmoveto(\u001b[38;5;241m-\u001b[39mpos)\n",
      "File \u001b[0;32m/Library/Frameworks/Python.framework/Versions/3.11/lib/python3.11/site-packages/tqdm/std.py:347\u001b[0m, in \u001b[0;36mtqdm.status_printer.<locals>.print_status\u001b[0;34m(s)\u001b[0m\n\u001b[1;32m    345\u001b[0m \u001b[38;5;28;01mdef\u001b[39;00m \u001b[38;5;21mprint_status\u001b[39m(s):\n\u001b[1;32m    346\u001b[0m     len_s \u001b[38;5;241m=\u001b[39m disp_len(s)\n\u001b[0;32m--> 347\u001b[0m     \u001b[43mfp_write\u001b[49m\u001b[43m(\u001b[49m\u001b[38;5;124;43m'\u001b[39;49m\u001b[38;5;130;43;01m\\r\u001b[39;49;00m\u001b[38;5;124;43m'\u001b[39;49m\u001b[43m \u001b[49m\u001b[38;5;241;43m+\u001b[39;49m\u001b[43m \u001b[49m\u001b[43ms\u001b[49m\u001b[43m \u001b[49m\u001b[38;5;241;43m+\u001b[39;49m\u001b[43m \u001b[49m\u001b[43m(\u001b[49m\u001b[38;5;124;43m'\u001b[39;49m\u001b[38;5;124;43m \u001b[39;49m\u001b[38;5;124;43m'\u001b[39;49m\u001b[43m \u001b[49m\u001b[38;5;241;43m*\u001b[39;49m\u001b[43m \u001b[49m\u001b[38;5;28;43mmax\u001b[39;49m\u001b[43m(\u001b[49m\u001b[43mlast_len\u001b[49m\u001b[43m[\u001b[49m\u001b[38;5;241;43m0\u001b[39;49m\u001b[43m]\u001b[49m\u001b[43m \u001b[49m\u001b[38;5;241;43m-\u001b[39;49m\u001b[43m \u001b[49m\u001b[43mlen_s\u001b[49m\u001b[43m,\u001b[49m\u001b[43m \u001b[49m\u001b[38;5;241;43m0\u001b[39;49m\u001b[43m)\u001b[49m\u001b[43m)\u001b[49m\u001b[43m)\u001b[49m\n\u001b[1;32m    348\u001b[0m     last_len[\u001b[38;5;241m0\u001b[39m] \u001b[38;5;241m=\u001b[39m len_s\n",
      "File \u001b[0;32m/Library/Frameworks/Python.framework/Versions/3.11/lib/python3.11/site-packages/tqdm/std.py:341\u001b[0m, in \u001b[0;36mtqdm.status_printer.<locals>.fp_write\u001b[0;34m(s)\u001b[0m\n\u001b[1;32m    339\u001b[0m \u001b[38;5;28;01mdef\u001b[39;00m \u001b[38;5;21mfp_write\u001b[39m(s):\n\u001b[1;32m    340\u001b[0m     fp\u001b[38;5;241m.\u001b[39mwrite(\u001b[38;5;28mstr\u001b[39m(s))\n\u001b[0;32m--> 341\u001b[0m     \u001b[43mfp_flush\u001b[49m\u001b[43m(\u001b[49m\u001b[43m)\u001b[49m\n",
      "File \u001b[0;32m/Library/Frameworks/Python.framework/Versions/3.11/lib/python3.11/site-packages/tqdm/utils.py:127\u001b[0m, in \u001b[0;36mDisableOnWriteError.disable_on_exception.<locals>.inner\u001b[0;34m(*args, **kwargs)\u001b[0m\n\u001b[1;32m    125\u001b[0m \u001b[38;5;28;01mdef\u001b[39;00m \u001b[38;5;21minner\u001b[39m(\u001b[38;5;241m*\u001b[39margs, \u001b[38;5;241m*\u001b[39m\u001b[38;5;241m*\u001b[39mkwargs):\n\u001b[1;32m    126\u001b[0m     \u001b[38;5;28;01mtry\u001b[39;00m:\n\u001b[0;32m--> 127\u001b[0m         \u001b[38;5;28;01mreturn\u001b[39;00m \u001b[43mfunc\u001b[49m\u001b[43m(\u001b[49m\u001b[38;5;241;43m*\u001b[39;49m\u001b[43margs\u001b[49m\u001b[43m,\u001b[49m\u001b[43m \u001b[49m\u001b[38;5;241;43m*\u001b[39;49m\u001b[38;5;241;43m*\u001b[39;49m\u001b[43mkwargs\u001b[49m\u001b[43m)\u001b[49m\n\u001b[1;32m    128\u001b[0m     \u001b[38;5;28;01mexcept\u001b[39;00m \u001b[38;5;167;01mOSError\u001b[39;00m \u001b[38;5;28;01mas\u001b[39;00m e:\n\u001b[1;32m    129\u001b[0m         \u001b[38;5;28;01mif\u001b[39;00m e\u001b[38;5;241m.\u001b[39merrno \u001b[38;5;241m!=\u001b[39m \u001b[38;5;241m5\u001b[39m:\n",
      "File \u001b[0;32m/Library/Frameworks/Python.framework/Versions/3.11/lib/python3.11/site-packages/ipykernel/iostream.py:500\u001b[0m, in \u001b[0;36mOutStream.flush\u001b[0;34m(self)\u001b[0m\n\u001b[1;32m    498\u001b[0m     \u001b[38;5;28mself\u001b[39m\u001b[38;5;241m.\u001b[39mpub_thread\u001b[38;5;241m.\u001b[39mschedule(evt\u001b[38;5;241m.\u001b[39mset)\n\u001b[1;32m    499\u001b[0m     \u001b[38;5;66;03m# and give a timeout to avoid\u001b[39;00m\n\u001b[0;32m--> 500\u001b[0m     \u001b[38;5;28;01mif\u001b[39;00m \u001b[38;5;129;01mnot\u001b[39;00m \u001b[43mevt\u001b[49m\u001b[38;5;241;43m.\u001b[39;49m\u001b[43mwait\u001b[49m\u001b[43m(\u001b[49m\u001b[38;5;28;43mself\u001b[39;49m\u001b[38;5;241;43m.\u001b[39;49m\u001b[43mflush_timeout\u001b[49m\u001b[43m)\u001b[49m:\n\u001b[1;32m    501\u001b[0m         \u001b[38;5;66;03m# write directly to __stderr__ instead of warning because\u001b[39;00m\n\u001b[1;32m    502\u001b[0m         \u001b[38;5;66;03m# if this is happening sys.stderr may be the problem.\u001b[39;00m\n\u001b[1;32m    503\u001b[0m         \u001b[38;5;28mprint\u001b[39m(\u001b[38;5;124m\"\u001b[39m\u001b[38;5;124mIOStream.flush timed out\u001b[39m\u001b[38;5;124m\"\u001b[39m, file\u001b[38;5;241m=\u001b[39msys\u001b[38;5;241m.\u001b[39m__stderr__)\n\u001b[1;32m    504\u001b[0m \u001b[38;5;28;01melse\u001b[39;00m:\n",
      "File \u001b[0;32m/Library/Frameworks/Python.framework/Versions/3.11/lib/python3.11/threading.py:622\u001b[0m, in \u001b[0;36mEvent.wait\u001b[0;34m(self, timeout)\u001b[0m\n\u001b[1;32m    620\u001b[0m signaled \u001b[38;5;241m=\u001b[39m \u001b[38;5;28mself\u001b[39m\u001b[38;5;241m.\u001b[39m_flag\n\u001b[1;32m    621\u001b[0m \u001b[38;5;28;01mif\u001b[39;00m \u001b[38;5;129;01mnot\u001b[39;00m signaled:\n\u001b[0;32m--> 622\u001b[0m     signaled \u001b[38;5;241m=\u001b[39m \u001b[38;5;28;43mself\u001b[39;49m\u001b[38;5;241;43m.\u001b[39;49m\u001b[43m_cond\u001b[49m\u001b[38;5;241;43m.\u001b[39;49m\u001b[43mwait\u001b[49m\u001b[43m(\u001b[49m\u001b[43mtimeout\u001b[49m\u001b[43m)\u001b[49m\n\u001b[1;32m    623\u001b[0m \u001b[38;5;28;01mreturn\u001b[39;00m signaled\n",
      "File \u001b[0;32m/Library/Frameworks/Python.framework/Versions/3.11/lib/python3.11/threading.py:324\u001b[0m, in \u001b[0;36mCondition.wait\u001b[0;34m(self, timeout)\u001b[0m\n\u001b[1;32m    322\u001b[0m \u001b[38;5;28;01melse\u001b[39;00m:\n\u001b[1;32m    323\u001b[0m     \u001b[38;5;28;01mif\u001b[39;00m timeout \u001b[38;5;241m>\u001b[39m \u001b[38;5;241m0\u001b[39m:\n\u001b[0;32m--> 324\u001b[0m         gotit \u001b[38;5;241m=\u001b[39m \u001b[43mwaiter\u001b[49m\u001b[38;5;241;43m.\u001b[39;49m\u001b[43macquire\u001b[49m\u001b[43m(\u001b[49m\u001b[38;5;28;43;01mTrue\u001b[39;49;00m\u001b[43m,\u001b[49m\u001b[43m \u001b[49m\u001b[43mtimeout\u001b[49m\u001b[43m)\u001b[49m\n\u001b[1;32m    325\u001b[0m     \u001b[38;5;28;01melse\u001b[39;00m:\n\u001b[1;32m    326\u001b[0m         gotit \u001b[38;5;241m=\u001b[39m waiter\u001b[38;5;241m.\u001b[39macquire(\u001b[38;5;28;01mFalse\u001b[39;00m)\n",
      "\u001b[0;31mKeyboardInterrupt\u001b[0m: "
     ]
    }
   ],
   "source": [
    "import yfinance as yf\n",
    "from datetime import datetime, timedelta\n",
    "from tqdm import tqdm\n",
    "\n",
    "ticker_ret = []\n",
    "ticker_loop = []\n",
    "\n",
    "for i in tqdm(tickers.Symbol):\n",
    "    try:\n",
    "        ticker_symbol = i  # Replace with your desired stock symbol\n",
    "\n",
    "        # Get today's date and the previous trading day\n",
    "        today = datetime.today().strftime('%Y-%m-%d')\n",
    "        previous_day = (datetime.today() - timedelta(days=1)).strftime('%Y-%m-%d')\n",
    "\n",
    "        # Fetch the stock data\n",
    "        stock = yf.Ticker(ticker_symbol)\n",
    "        history = stock.history(period='1mo')\n",
    "\n",
    "        # Extract the closing prices for today and the previous trading day\n",
    "        today_close_price = history['Close'][-1]\n",
    "        previous_close_price = history['Close'][-2]\n",
    "\n",
    "        # Calculate the percent change\n",
    "        percent_change = ((today_close_price - previous_close_price) / previous_close_price) * 100\n",
    "\n",
    "\n",
    "        ticker_ret.append(percent_change)\n",
    "        ticker_loop.append(i)\n",
    "    \n",
    "    except:\n",
    "        print('error with', i)\n",
    "    \n",
    "\n",
    "daily_ret_df = pd.DataFrame({'Ticker': ticker_loop, 'pctchange': ticker_ret})\n",
    "daily_ret_df.sort_values(by='pctchange')"
   ]
  },
  {
   "cell_type": "code",
   "execution_count": 3,
   "id": "c228d2d7",
   "metadata": {
    "collapsed": true
   },
   "outputs": [
    {
     "name": "stderr",
     "output_type": "stream",
     "text": [
      "\r",
      "  0%|                                                  | 0/1144 [00:00<?, ?it/s]"
     ]
    },
    {
     "name": "stdout",
     "output_type": "stream",
     "text": [
      "[*********************100%***********************]  1 of 1 completed\n",
      "[*********************100%***********************]  1 of 1 completed"
     ]
    },
    {
     "name": "stderr",
     "output_type": "stream",
     "text": [
      "\r",
      "  0%|                                          | 1/1144 [00:00<11:51,  1.61it/s]"
     ]
    },
    {
     "name": "stdout",
     "output_type": "stream",
     "text": [
      "\n",
      "[*********************100%***********************]  1 of 1 completed"
     ]
    },
    {
     "name": "stderr",
     "output_type": "stream",
     "text": [
      "\r",
      "  0%|                                          | 2/1144 [00:01<11:01,  1.73it/s]"
     ]
    },
    {
     "name": "stdout",
     "output_type": "stream",
     "text": [
      "\n",
      "[*********************100%***********************]  1 of 1 completed"
     ]
    },
    {
     "name": "stderr",
     "output_type": "stream",
     "text": [
      "\r",
      "  0%|                                          | 3/1144 [00:01<07:46,  2.45it/s]"
     ]
    },
    {
     "name": "stdout",
     "output_type": "stream",
     "text": [
      "\n",
      "[*********************100%***********************]  1 of 1 completed"
     ]
    },
    {
     "name": "stderr",
     "output_type": "stream",
     "text": [
      "\r",
      "  0%|▏                                         | 4/1144 [00:01<07:15,  2.62it/s]"
     ]
    },
    {
     "name": "stdout",
     "output_type": "stream",
     "text": [
      "\n",
      "[*********************100%***********************]  1 of 1 completed"
     ]
    },
    {
     "name": "stderr",
     "output_type": "stream",
     "text": [
      "  0%|▏                                         | 5/1144 [00:02<08:09,  2.32it/s]"
     ]
    },
    {
     "name": "stdout",
     "output_type": "stream",
     "text": [
      "\n"
     ]
    },
    {
     "name": "stderr",
     "output_type": "stream",
     "text": [
      "\n"
     ]
    },
    {
     "ename": "KeyboardInterrupt",
     "evalue": "",
     "output_type": "error",
     "traceback": [
      "\u001b[0;31m---------------------------------------------------------------------------\u001b[0m",
      "\u001b[0;31mKeyboardInterrupt\u001b[0m                         Traceback (most recent call last)",
      "Cell \u001b[0;32mIn[3], line 14\u001b[0m\n\u001b[1;32m     12\u001b[0m     x\u001b[38;5;241m+\u001b[39m\u001b[38;5;241m=\u001b[39m\u001b[38;5;241m1\u001b[39m\n\u001b[1;32m     13\u001b[0m \u001b[38;5;28;01mif\u001b[39;00m x\u001b[38;5;241m>\u001b[39m\u001b[38;5;241m0\u001b[39m:\n\u001b[0;32m---> 14\u001b[0m     temp_df1 \u001b[38;5;241m=\u001b[39m \u001b[43myf\u001b[49m\u001b[38;5;241;43m.\u001b[39;49m\u001b[43mdownload\u001b[49m\u001b[43m(\u001b[49m\u001b[43mi\u001b[49m\u001b[43m)\u001b[49m\u001b[38;5;241m.\u001b[39mClose\n\u001b[1;32m     15\u001b[0m     temp_df1 \u001b[38;5;241m=\u001b[39m pd\u001b[38;5;241m.\u001b[39mDataFrame(temp_df1)\n\u001b[1;32m     16\u001b[0m     temp_df1 \u001b[38;5;241m=\u001b[39m temp_df1\u001b[38;5;241m.\u001b[39mrename(columns\u001b[38;5;241m=\u001b[39m{\u001b[38;5;124m'\u001b[39m\u001b[38;5;124mClose\u001b[39m\u001b[38;5;124m'\u001b[39m:i})\n",
      "File \u001b[0;32m/Library/Frameworks/Python.framework/Versions/3.11/lib/python3.11/site-packages/yfinance/utils.py:105\u001b[0m, in \u001b[0;36mlog_indent_decorator.<locals>.wrapper\u001b[0;34m(*args, **kwargs)\u001b[0m\n\u001b[1;32m    102\u001b[0m logger\u001b[38;5;241m.\u001b[39mdebug(\u001b[38;5;124mf\u001b[39m\u001b[38;5;124m'\u001b[39m\u001b[38;5;124mEntering \u001b[39m\u001b[38;5;132;01m{\u001b[39;00mfunc\u001b[38;5;241m.\u001b[39m\u001b[38;5;18m__name__\u001b[39m\u001b[38;5;132;01m}\u001b[39;00m\u001b[38;5;124m()\u001b[39m\u001b[38;5;124m'\u001b[39m)\n\u001b[1;32m    104\u001b[0m \u001b[38;5;28;01mwith\u001b[39;00m IndentationContext():\n\u001b[0;32m--> 105\u001b[0m     result \u001b[38;5;241m=\u001b[39m \u001b[43mfunc\u001b[49m\u001b[43m(\u001b[49m\u001b[38;5;241;43m*\u001b[39;49m\u001b[43margs\u001b[49m\u001b[43m,\u001b[49m\u001b[43m \u001b[49m\u001b[38;5;241;43m*\u001b[39;49m\u001b[38;5;241;43m*\u001b[39;49m\u001b[43mkwargs\u001b[49m\u001b[43m)\u001b[49m\n\u001b[1;32m    107\u001b[0m logger\u001b[38;5;241m.\u001b[39mdebug(\u001b[38;5;124mf\u001b[39m\u001b[38;5;124m'\u001b[39m\u001b[38;5;124mExiting \u001b[39m\u001b[38;5;132;01m{\u001b[39;00mfunc\u001b[38;5;241m.\u001b[39m\u001b[38;5;18m__name__\u001b[39m\u001b[38;5;132;01m}\u001b[39;00m\u001b[38;5;124m()\u001b[39m\u001b[38;5;124m'\u001b[39m)\n\u001b[1;32m    108\u001b[0m \u001b[38;5;28;01mreturn\u001b[39;00m result\n",
      "File \u001b[0;32m/Library/Frameworks/Python.framework/Versions/3.11/lib/python3.11/site-packages/yfinance/multi.py:157\u001b[0m, in \u001b[0;36mdownload\u001b[0;34m(tickers, start, end, actions, threads, ignore_tz, group_by, auto_adjust, back_adjust, repair, keepna, progress, period, show_errors, interval, prepost, proxy, rounding, timeout, session)\u001b[0m\n\u001b[1;32m    150\u001b[0m         _download_one_threaded(ticker, period\u001b[38;5;241m=\u001b[39mperiod, interval\u001b[38;5;241m=\u001b[39minterval,\n\u001b[1;32m    151\u001b[0m                                start\u001b[38;5;241m=\u001b[39mstart, end\u001b[38;5;241m=\u001b[39mend, prepost\u001b[38;5;241m=\u001b[39mprepost,\n\u001b[1;32m    152\u001b[0m                                actions\u001b[38;5;241m=\u001b[39mactions, auto_adjust\u001b[38;5;241m=\u001b[39mauto_adjust,\n\u001b[1;32m    153\u001b[0m                                back_adjust\u001b[38;5;241m=\u001b[39mback_adjust, repair\u001b[38;5;241m=\u001b[39mrepair, keepna\u001b[38;5;241m=\u001b[39mkeepna,\n\u001b[1;32m    154\u001b[0m                                progress\u001b[38;5;241m=\u001b[39m(progress \u001b[38;5;129;01mand\u001b[39;00m i \u001b[38;5;241m>\u001b[39m \u001b[38;5;241m0\u001b[39m), proxy\u001b[38;5;241m=\u001b[39mproxy,\n\u001b[1;32m    155\u001b[0m                                rounding\u001b[38;5;241m=\u001b[39mrounding, timeout\u001b[38;5;241m=\u001b[39mtimeout, session\u001b[38;5;241m=\u001b[39msession)\n\u001b[1;32m    156\u001b[0m     \u001b[38;5;28;01mwhile\u001b[39;00m \u001b[38;5;28mlen\u001b[39m(shared\u001b[38;5;241m.\u001b[39m_DFS) \u001b[38;5;241m<\u001b[39m \u001b[38;5;28mlen\u001b[39m(tickers):\n\u001b[0;32m--> 157\u001b[0m         _time\u001b[38;5;241m.\u001b[39msleep(\u001b[38;5;241m0.01\u001b[39m)\n\u001b[1;32m    158\u001b[0m \u001b[38;5;66;03m# download synchronously\u001b[39;00m\n\u001b[1;32m    159\u001b[0m \u001b[38;5;28;01melse\u001b[39;00m:\n\u001b[1;32m    160\u001b[0m     \u001b[38;5;28;01mfor\u001b[39;00m i, ticker \u001b[38;5;129;01min\u001b[39;00m \u001b[38;5;28menumerate\u001b[39m(tickers):\n",
      "\u001b[0;31mKeyboardInterrupt\u001b[0m: "
     ]
    }
   ],
   "source": [
    "import yfinance as yf\n",
    "from tqdm import tqdm\n",
    "import pandas as pd\n",
    "\n",
    "x=0\n",
    "\n",
    "for i in tqdm(ticker_list):\n",
    "\n",
    "    if x==0:\n",
    "        temp_df = yf.download('AAPL').Close\n",
    "        temp_df = pd.DataFrame(temp_df)\n",
    "        temp_df = temp_df.rename(columns={'Close':\"AAPL\"})\n",
    "        x+=1\n",
    "    if x>0:\n",
    "        temp_df1 = yf.download(i).Close\n",
    "        temp_df1 = pd.DataFrame(temp_df1)\n",
    "        temp_df1 = temp_df1.rename(columns={'Close':i})\n",
    "\n",
    "        temp_df = temp_df.merge(temp_df1, how='left',left_index=True, right_index=True)\n",
    "\n"
   ]
  },
  {
   "cell_type": "code",
   "execution_count": 69,
   "id": "b9e5920b",
   "metadata": {},
   "outputs": [],
   "source": [
    "import pandas as pd\n",
    "\n",
    "temp_df = pd.read_csv('StockData.csv')"
   ]
  },
  {
   "cell_type": "code",
   "execution_count": 70,
   "id": "141264aa",
   "metadata": {},
   "outputs": [],
   "source": [
    "temp_df.Date = temp_df.Date.astype(str)"
   ]
  },
  {
   "cell_type": "markdown",
   "id": "dcb06e09",
   "metadata": {},
   "source": [
    "<h1> Let's pick a reasonable backtest period that encompasses several extreme events. How about 2010-Present? </h1>"
   ]
  },
  {
   "cell_type": "code",
   "execution_count": 71,
   "id": "e9295772",
   "metadata": {
    "scrolled": true
   },
   "outputs": [],
   "source": [
    "fin_df = temp_df[temp_df.Date > '2010-01-01'].iloc[:,:]"
   ]
  },
  {
   "cell_type": "markdown",
   "id": "acf046a7",
   "metadata": {},
   "source": [
    "<h1> Let's explore the data of returns. Missing values, distributions, variance, ect... </h1>"
   ]
  },
  {
   "cell_type": "code",
   "execution_count": 72,
   "id": "96b9ce6a",
   "metadata": {},
   "outputs": [],
   "source": [
    "pct_df = fin_df.set_index('Date').pct_change().iloc[:,1:]"
   ]
  },
  {
   "cell_type": "code",
   "execution_count": 73,
   "id": "5f2840e6",
   "metadata": {
    "scrolled": true
   },
   "outputs": [],
   "source": [
    "from scipy.stats import kurtosis, skew\n",
    "\n",
    "summary_stats = pct_df.describe()\n",
    "\n",
    "SS = summary_stats.T\n",
    "\n",
    "\n",
    "\n",
    "SS['skew'] = pct_df.skew()\n",
    "SS['kurtosis'] = pct_df.kurtosis()"
   ]
  },
  {
   "cell_type": "code",
   "execution_count": 74,
   "id": "b4120ac3",
   "metadata": {
    "scrolled": true
   },
   "outputs": [],
   "source": [
    "import matplotlib.pyplot as plt\n",
    "import seaborn as sns\n",
    "\n",
    "\n",
    "# Create a new DataFrame to store the statistics\n",
    "# Create a new DataFrame to store the statistics\n",
    "table_data = pd.DataFrame({\n",
    "    'Mean': SS['mean'],\n",
    "    'Std Dev': SS['std'],\n",
    "    'Min': SS['min'],\n",
    "    'Max': SS['max'],\n",
    "    'Skew': SS['skew'],\n",
    "    'Kurtosis': SS['kurtosis']\n",
    "})\n",
    "\n",
    "\n",
    "cmap = sns.color_palette(\"Blues\", as_cmap=True)\n",
    "\n",
    "styled_table = table_data.style.background_gradient(cmap='Blues')\n"
   ]
  },
  {
   "cell_type": "code",
   "execution_count": 75,
   "id": "e8f07cb9",
   "metadata": {
    "scrolled": false
   },
   "outputs": [
    {
     "data": {
      "image/png": "[encoded data removed]",
      "text/plain": [
       "<Figure size 640x480 with 1 Axes>"
      ]
     },
     "metadata": {},
     "output_type": "display_data"
    }
   ],
   "source": [
    "import matplotlib.pyplot as plt\n",
    "\n",
    "\n",
    "plt.hist(pct_df.AA, bins='auto', alpha=.6)\n",
    "    \n",
    "\n",
    "# Set the title and labels\n",
    "plt.title(f'Histogram of NASDAQ Returns')\n",
    "plt.xlabel('Return')\n",
    "plt.ylabel('Frequency')\n",
    "\n",
    "\n",
    "# Display the histogram\n",
    "plt.plot()\n",
    "plt.savefig('NASDAQ_ret.png', transparent=True)"
   ]
  },
  {
   "cell_type": "markdown",
   "id": "6a854bf0",
   "metadata": {},
   "source": [
    "<h1> Let's look at slightly more mature stocks and ones without so much volitility. With lower volume, returns may be more unpredictable as there is not enough sentiment-related trading activity </h1>"
   ]
  },
  {
   "cell_type": "code",
   "execution_count": 76,
   "id": "b4c5a639",
   "metadata": {},
   "outputs": [],
   "source": [
    "SS_list = SS[(SS['count'] > 400) & (SS['std'] <= .05)].index"
   ]
  },
  {
   "cell_type": "code",
   "execution_count": 77,
   "id": "394e0eb9",
   "metadata": {},
   "outputs": [],
   "source": [
    "SS_df = pct_df[SS_list]"
   ]
  },
  {
   "cell_type": "code",
   "execution_count": 79,
   "id": "7df6f106",
   "metadata": {},
   "outputs": [
    {
     "name": "stdout",
     "output_type": "stream",
     "text": [
      "Values above zero:\n",
      "1698901\n",
      "\n",
      "Values below zero:\n",
      "1571699\n"
     ]
    }
   ],
   "source": [
    "above_zero = (SS_df.values > 0).sum()\n",
    "\n",
    "# Count values below zero\n",
    "below_zero = (SS_df.values < 0).sum()\n",
    "\n",
    "# Print the results\n",
    "print(\"Values above zero:\")\n",
    "print(above_zero)\n",
    "print(\"\\nValues below zero:\")\n",
    "print(below_zero)"
   ]
  },
  {
   "cell_type": "markdown",
   "id": "b3e85784",
   "metadata": {},
   "source": [
    "<h1> Ultimately the test will be --> Are returns the day-after major % drops significantly different from all other population returns? </h1>"
   ]
  },
  {
   "cell_type": "code",
   "execution_count": 80,
   "id": "9610cc84",
   "metadata": {},
   "outputs": [],
   "source": []
  },
  {
   "cell_type": "code",
   "execution_count": 81,
   "id": "799c67ac",
   "metadata": {},
   "outputs": [],
   "source": []
  },
  {
   "cell_type": "code",
   "execution_count": 82,
   "id": "2a9b9f81",
   "metadata": {},
   "outputs": [],
   "source": [
    "import numpy as np\n",
    "\n",
    "values = SS_df.values.flatten()  # Flatten the DataFrame values into a 1D array\n",
    "sample_size = min(5989, len(values))  # Adjust sample size to not exceed available values\n",
    "\n",
    "# Randomly sample the values using numpy\n",
    "random_sample = np.random.choice(values, size=sample_size, replace=False)\n",
    "ret_sample = RET_df.NextReturn\n"
   ]
  },
  {
   "cell_type": "code",
   "execution_count": 83,
   "id": "2d6c1a39",
   "metadata": {},
   "outputs": [
    {
     "data": {
      "text/plain": [
       "6989"
      ]
     },
     "execution_count": 83,
     "metadata": {},
     "output_type": "execute_result"
    }
   ],
   "source": [
    "len(ret_sample)"
   ]
  },
  {
   "cell_type": "code",
   "execution_count": 84,
   "id": "a4a26a11",
   "metadata": {
    "scrolled": false
   },
   "outputs": [
    {
     "data": {
      "image/png": "[encoded data removed]",
      "text/plain": [
       "<Figure size 640x480 with 1 Axes>"
      ]
     },
     "metadata": {},
     "output_type": "display_data"
    }
   ],
   "source": [
    "plt.hist(ret_sample, bins=50, alpha=.5, label='Sample')\n",
    "plt.hist(random_sample, bins=50, alpha=.5, label='Population')\n",
    "\n",
    "plt.title('Sample Return vs Population Return', fontsize=15)\n",
    "plt.xlabel('Return', fontsize=15)\n",
    "plt.ylabel('Frequency', fontsize=15)\n",
    "plt.legend(fontsize=15)\n",
    "\n",
    "plt.plot()\n",
    "plt.savefig('samplevrandom.png', transparent=True)"
   ]
  },
  {
   "cell_type": "code",
   "execution_count": 227,
   "id": "0e163669",
   "metadata": {},
   "outputs": [
    {
     "name": "stdout",
     "output_type": "stream",
     "text": [
      "Sample Mean: 0.01801\n",
      "Sample Standard Deviation: 0.08021\n",
      "Population Mean: 0.00061\n",
      "Population Standard Deviation: 0.02229\n",
      "Z-score 18.12627\n",
      "P-val 0.0\n"
     ]
    }
   ],
   "source": [
    "import numpy as np\n",
    "from scipy import stats\n",
    "from scipy.stats import norm\n",
    "\n",
    "Ticker = []\n",
    "Date = []\n",
    "ret = []\n",
    "after_ret = []\n",
    "\n",
    "for b, c in zip(range(len(SS_df.columns)), SS_df.columns):\n",
    "    for j,k,l in zip(SS_df.iloc[:,b], SS_df.iloc[1:,b], SS_df.index):\n",
    "        if j <= -.1:\n",
    "            ret.append(j)\n",
    "            after_ret.append(k)\n",
    "            Date.append(l)\n",
    "            Ticker.append(c)    \n",
    "                       \n",
    "RET_df = pd.DataFrame({'Date': Date, 'Ticker': Ticker, 'Return': ret, 'NextReturn': after_ret})\n",
    "\n",
    "ret_sample = RET_df.NextReturn\n",
    "\n",
    "population_mean = np.nanmean(SS_df)\n",
    "population_std = np.nanstd(SS_df)\n",
    "ret_mean = np.mean(ret_sample)\n",
    "ret_std = np.std(ret_sample, ddof=1)\n",
    "\n",
    "n = len(ret_sample)\n",
    "z = (ret_mean - population_mean) / (ret_std / np.sqrt(n))\n",
    "\n",
    "p_value = 1 - norm.cdf(z)\n",
    "\n",
    "\n",
    "print(\"Sample Mean:\", round(ret_mean,5))\n",
    "print(\"Sample Standard Deviation:\", round(ret_std,5))\n",
    "print(\"Population Mean:\", round(population_mean,5))\n",
    "print(\"Population Standard Deviation:\", round(population_std,5))\n",
    "print('Z-score', round(z, 5))\n",
    "print('P-val', p_value)"
   ]
  },
  {
   "cell_type": "markdown",
   "id": "e645860b",
   "metadata": {},
   "source": [
    "<h1> We can reject the null hypothesis that returns are normal and efficient off the back of abnormal events. Let's visualize and further prove. This sample mean is so significant that I believe I might be missing something... </h1>"
   ]
  },
  {
   "cell_type": "code",
   "execution_count": 86,
   "id": "840beadd",
   "metadata": {},
   "outputs": [],
   "source": [
    "Viz_df = RET_df.sort_values(by='Date').reset_index()\n",
    "Viz_df['CumRet'] = (1 + Viz_df.NextReturn).cumprod() - 1"
   ]
  },
  {
   "cell_type": "code",
   "execution_count": 87,
   "id": "e948441f",
   "metadata": {},
   "outputs": [
    {
     "data": {
      "text/plain": [
       "<Axes: >"
      ]
     },
     "execution_count": 87,
     "metadata": {},
     "output_type": "execute_result"
    },
    {
     "data": {
      "image/png": "[encoded data removed]",
      "text/plain": [
       "<Figure size 640x480 with 1 Axes>"
      ]
     },
     "metadata": {},
     "output_type": "display_data"
    }
   ],
   "source": [
    "Viz_df['CumRet'].plot(x='Date', y='CumRet',logy=True)"
   ]
  },
  {
   "cell_type": "markdown",
   "id": "bdcd817d",
   "metadata": {},
   "source": [
    "<h1> Let's smooth out the portfolio return by investing only 1/5th in each return that is flagged </h1>"
   ]
  },
  {
   "cell_type": "code",
   "execution_count": 88,
   "id": "d0e6d25c",
   "metadata": {},
   "outputs": [],
   "source": [
    "Viz_df['CumRet5'] = (1 + (Viz_df.NextReturn / 5)).cumprod() - 1"
   ]
  },
  {
   "cell_type": "code",
   "execution_count": 89,
   "id": "52125012",
   "metadata": {
    "scrolled": false
   },
   "outputs": [
    {
     "data": {
      "text/plain": [
       "<Axes: >"
      ]
     },
     "execution_count": 89,
     "metadata": {},
     "output_type": "execute_result"
    },
    {
     "data": {
      "image/png": "[encoded data removed]",
      "text/plain": [
       "<Figure size 640x480 with 1 Axes>"
      ]
     },
     "metadata": {},
     "output_type": "display_data"
    }
   ],
   "source": [
    "Viz_df['CumRet'].plot(x='Date', y='CumRet',logy=True)\n",
    "Viz_df['CumRet5'].plot(x='Date', y='CumRet',logy=True)"
   ]
  },
  {
   "cell_type": "markdown",
   "id": "69a18d31",
   "metadata": {},
   "source": [
    "<h1> Since the start of 2023? </h1>"
   ]
  },
  {
   "cell_type": "code",
   "execution_count": 91,
   "id": "4d2f9424",
   "metadata": {},
   "outputs": [
    {
     "data": {
      "image/png": "[encoded data removed]",
      "text/plain": [
       "<Figure size 640x480 with 1 Axes>"
      ]
     },
     "metadata": {},
     "output_type": "display_data"
    }
   ],
   "source": [
    "Viz_df2023 = RET_df[RET_df['Date'] > '2023-01-01'].sort_values(by='Date').reset_index()\n",
    "Viz_df2023['CumRet'] = (1 + Viz_df2023.NextReturn / 4).cumprod() - 1\n",
    "Viz_df2023['CumRet'].plot(linewidth=3)\n",
    "\n",
    "plt.title('Cumulative Returns in 2023', fontsize=15)\n",
    "plt.xlabel('Days', fontsize=15)\n",
    "plt.ylabel('Cumulative Return', fontsize=15)\n",
    "plt.tick_params(axis='both', which='both', width=5)\n",
    "plt.ticklabel_format()\n",
    "\n",
    "\n",
    "plt.plot()\n",
    "\n",
    "plt.savefig('Cumret2023.png', transparent=True)"
   ]
  },
  {
   "cell_type": "markdown",
   "id": "5c33ff8b",
   "metadata": {},
   "source": [
    "<h1> Lets loop over the last 40/50 quarters and see the z-scores for these returns and if the strategy outperformed or underperformed the market </h1>"
   ]
  },
  {
   "cell_type": "code",
   "execution_count": 225,
   "id": "b176fa58",
   "metadata": {
    "scrolled": false
   },
   "outputs": [
    {
     "name": "stdout",
     "output_type": "stream",
     "text": [
      "[*********************100%***********************]  1 of 1 completed\n"
     ]
    },
    {
     "name": "stderr",
     "output_type": "stream",
     "text": [
      "/var/folders/v8/l9k84q0j5dvb69nc7wjtd5x80000gn/T/ipykernel_75044/3764900312.py:41: RuntimeWarning: Mean of empty slice\n",
      "  SP_m = np.nanmean(SP5002)\n",
      "/var/folders/v8/l9k84q0j5dvb69nc7wjtd5x80000gn/T/ipykernel_75044/3764900312.py:43: RuntimeWarning: Mean of empty slice\n",
      "  population_mean2 = np.nanmean(SS_df2)\n",
      "/Library/Frameworks/Python.framework/Versions/3.11/lib/python3.11/site-packages/numpy/lib/nanfunctions.py:1872: RuntimeWarning: Degrees of freedom <= 0 for slice.\n",
      "  var = nanvar(a, axis=axis, dtype=dtype, out=out, ddof=ddof,\n"
     ]
    }
   ],
   "source": [
    "import numpy as np\n",
    "from scipy import stats\n",
    "from scipy.stats import norm\n",
    "import datetime\n",
    "import yfinance as yf\n",
    "\n",
    "current_year = datetime.datetime.now().year\n",
    "start_year = 2010\n",
    "\n",
    "quarters = []\n",
    "\n",
    "for year in range(start_year, current_year + 1):\n",
    "    for quarter in range(1, 5):\n",
    "        quarter_start = datetime.datetime(year, (quarter - 1) * 3 + 1, 1)\n",
    "        quarters.append(quarter_start)\n",
    "\n",
    "\n",
    "quarters = [str(i) for i in quarters]\n",
    "SS_df.index = SS_df.index\n",
    "\n",
    "i_quarter = []\n",
    "i_sample_m = []\n",
    "i_sample_std = []\n",
    "i_pop_m = []\n",
    "i_pop_std = []\n",
    "i_zscore = []\n",
    "i_pval = []\n",
    "i_SP_m = []\n",
    "i_obs = []\n",
    "\n",
    "SP500 = yf.download(\"^GSPC\").Close\n",
    "SP500 = pd.DataFrame(SP500.pct_change())\n",
    "\n",
    "\n",
    "for i,j in zip(quarters, quarters[1:]):\n",
    "    SS_df2 = SS_df[(SS_df.index > i) & (SS_df.index < j)]\n",
    "    Viz_df2 = Viz_df[(Viz_df.Date > i) & (Viz_df.Date < j)]\n",
    "    \n",
    "    \n",
    "    SP5002 = SP500[(SP500.index > i) & (SP500.index < j)]\n",
    "    SP_m = np.nanmean(SP5002)\n",
    "    \n",
    "    population_mean2 = np.nanmean(SS_df2)\n",
    "    population_std2 = np.nanstd(SS_df2)\n",
    "    ret_mean2 = np.mean(Viz_df2.NextReturn)\n",
    "    ret_std2 = np.std(Viz_df2.NextReturn, ddof=1)\n",
    "\n",
    "    n2 = len(Viz_df2.NextReturn)\n",
    "    z2 = (ret_mean2 - population_mean2) / (ret_std2 / np.sqrt(n2))\n",
    "\n",
    "    p_value2 = round(1 - norm.cdf(z2),3)\n",
    "\n",
    "\n",
    "    i_quarter.append(i)\n",
    "    i_sample_m.append(ret_mean2)\n",
    "    i_sample_std.append(ret_std2)\n",
    "    i_pop_m.append(population_mean2)\n",
    "    i_pop_std.append(population_std2)\n",
    "    i_zscore.append(z2)\n",
    "    i_pval.append(p_value2)\n",
    "    i_SP_m.append(SP_m)\n",
    "    i_obs.append(n2)\n",
    "\n",
    "df = pd.DataFrame({'date': i_quarter, 's_mean': i_sample_m, 's_std':i_sample_std\n",
    "            , 'pop_mean': i_pop_m, 'pop_std': i_pop_std,\n",
    "            'z': i_zscore, 'p': i_pval, 'SP500': i_SP_m, 'Observations': i_obs})\n",
    "\n",
    "df['Perform'] = np.where(df.s_mean > df.SP500, 'Outperform', 'Underperform')"
   ]
  },
  {
   "cell_type": "code",
   "execution_count": 214,
   "id": "e8dfcfcf",
   "metadata": {},
   "outputs": [
    {
     "data": {
      "image/png": "[encoded data removed]",
      "text/plain": [
       "<Figure size 640x480 with 1 Axes>"
      ]
     },
     "metadata": {},
     "output_type": "display_data"
    }
   ],
   "source": [
    "import numpy as np\n",
    "import scipy.stats as stats\n",
    "\n",
    "# Remove rows with missing values\n",
    "df_clean = df.dropna(subset=['pop_std', 's_mean'])\n",
    "\n",
    "# Convert to numpy arrays\n",
    "pop_std = np.array(df_clean.pop_std)\n",
    "s_mean = np.array(df_clean.s_mean)\n",
    "\n",
    "# Calculate regression line\n",
    "slope, intercept, r_value, p_value, std_err = stats.linregress(pop_std, s_mean)\n",
    "regression_line = slope * pop_std + intercept\n",
    "\n",
    "# Scatter plot\n",
    "plt.scatter(pop_std, s_mean, alpha=0.8)\n",
    "plt.ylabel('Sample Return', fontsize=15)\n",
    "plt.xlabel('Population STD', fontsize=15)\n",
    "plt.title('Population STD v. Sample Mean', fontsize=15)\n",
    "\n",
    "# Plot regression line\n",
    "plt.plot(pop_std, regression_line, color='red', linewidth=2)\n",
    "\n",
    "plt.savefig('pop_v_mean.png', transparent=True)\n",
    "\n",
    "\n"
   ]
  },
  {
   "cell_type": "code",
   "execution_count": 216,
   "id": "957d6010",
   "metadata": {
    "scrolled": true
   },
   "outputs": [
    {
     "data": {
      "text/plain": [
       "-0.016106465654796093"
      ]
     },
     "execution_count": 216,
     "metadata": {},
     "output_type": "execute_result"
    }
   ],
   "source": [
    "intercept"
   ]
  },
  {
   "cell_type": "code",
   "execution_count": 213,
   "id": "8cc22f25",
   "metadata": {},
   "outputs": [
    {
     "data": {
      "text/plain": [
       "LinregressResult(slope=nan, intercept=nan, rvalue=nan, pvalue=nan, stderr=nan, intercept_stderr=nan)"
      ]
     },
     "execution_count": 213,
     "metadata": {},
     "output_type": "execute_result"
    }
   ],
   "source": [
    "stats.linregress(np.array(df.pop_std), np.array(df.s_mean))"
   ]
  },
  {
   "cell_type": "code",
   "execution_count": 203,
   "id": "0e65f103",
   "metadata": {},
   "outputs": [
    {
     "data": {
      "text/plain": [
       "nan"
      ]
     },
     "execution_count": 203,
     "metadata": {},
     "output_type": "execute_result"
    }
   ],
   "source": [
    "slope"
   ]
  },
  {
   "cell_type": "code",
   "execution_count": 94,
   "id": "5cf39bd7",
   "metadata": {},
   "outputs": [],
   "source": [
    "df['sample_ret'] = round(df.s_mean * 90 * 100, 2)\n",
    "df['SP_ret'] = round(df.SP500 * 90 * 100, 2)"
   ]
  },
  {
   "cell_type": "code",
   "execution_count": 95,
   "id": "0c18fb8a",
   "metadata": {
    "scrolled": false
   },
   "outputs": [
    {
     "data": {
      "text/plain": [
       "<Axes: >"
      ]
     },
     "execution_count": 95,
     "metadata": {},
     "output_type": "execute_result"
    },
    {
     "data": {
      "image/png": "[encoded data removed]",
      "text/plain": [
       "<Figure size 640x480 with 1 Axes>"
      ]
     },
     "metadata": {},
     "output_type": "display_data"
    }
   ],
   "source": [
    "df[['sample_ret', 'SP_ret']].plot()"
   ]
  },
  {
   "cell_type": "code",
   "execution_count": 121,
   "id": "5a760e66",
   "metadata": {
    "collapsed": true
   },
   "outputs": [
    {
     "ename": "AttributeError",
     "evalue": "'DataFrame' object has no attribute 'sample_ret'",
     "output_type": "error",
     "traceback": [
      "\u001b[0;31m---------------------------------------------------------------------------\u001b[0m",
      "\u001b[0;31mAttributeError\u001b[0m                            Traceback (most recent call last)",
      "\u001b[0;32m/var/folders/v8/l9k84q0j5dvb69nc7wjtd5x80000gn/T/ipykernel_75044/2962859496.py\u001b[0m in \u001b[0;36m?\u001b[0;34m()\u001b[0m\n\u001b[0;32m----> 1\u001b[0;31m \u001b[0mplt\u001b[0m\u001b[0;34m.\u001b[0m\u001b[0mhist\u001b[0m\u001b[0;34m(\u001b[0m\u001b[0mdf\u001b[0m\u001b[0;34m.\u001b[0m\u001b[0msample_ret\u001b[0m\u001b[0;34m,\u001b[0m \u001b[0mbins\u001b[0m\u001b[0;34m=\u001b[0m\u001b[0;36m20\u001b[0m\u001b[0;34m,\u001b[0m \u001b[0malpha\u001b[0m\u001b[0;34m=\u001b[0m\u001b[0;36m0.5\u001b[0m\u001b[0;34m,\u001b[0m \u001b[0mlabel\u001b[0m\u001b[0;34m=\u001b[0m\u001b[0;34m'Sample'\u001b[0m\u001b[0;34m)\u001b[0m\u001b[0;34m\u001b[0m\u001b[0;34m\u001b[0m\u001b[0m\n\u001b[0m\u001b[1;32m      2\u001b[0m \u001b[0mplt\u001b[0m\u001b[0;34m.\u001b[0m\u001b[0mhist\u001b[0m\u001b[0;34m(\u001b[0m\u001b[0mdf\u001b[0m\u001b[0;34m.\u001b[0m\u001b[0mSP_ret\u001b[0m\u001b[0;34m,\u001b[0m \u001b[0malpha\u001b[0m\u001b[0;34m=\u001b[0m\u001b[0;36m0.5\u001b[0m\u001b[0;34m,\u001b[0m \u001b[0mlabel\u001b[0m\u001b[0;34m=\u001b[0m\u001b[0;34m'SP500'\u001b[0m\u001b[0;34m)\u001b[0m\u001b[0;34m\u001b[0m\u001b[0;34m\u001b[0m\u001b[0m\n\u001b[1;32m      3\u001b[0m \u001b[0mplt\u001b[0m\u001b[0;34m.\u001b[0m\u001b[0mxlabel\u001b[0m\u001b[0;34m(\u001b[0m\u001b[0;34m'Value'\u001b[0m\u001b[0;34m)\u001b[0m\u001b[0;34m\u001b[0m\u001b[0;34m\u001b[0m\u001b[0m\n\u001b[1;32m      4\u001b[0m \u001b[0mplt\u001b[0m\u001b[0;34m.\u001b[0m\u001b[0mylabel\u001b[0m\u001b[0;34m(\u001b[0m\u001b[0;34m'Frequency'\u001b[0m\u001b[0;34m)\u001b[0m\u001b[0;34m\u001b[0m\u001b[0;34m\u001b[0m\u001b[0m\n",
      "\u001b[0;32m/Library/Frameworks/Python.framework/Versions/3.11/lib/python3.11/site-packages/pandas/core/generic.py\u001b[0m in \u001b[0;36m?\u001b[0;34m(self, name)\u001b[0m\n\u001b[1;32m   5985\u001b[0m             \u001b[0;32mand\u001b[0m \u001b[0mname\u001b[0m \u001b[0;32mnot\u001b[0m \u001b[0;32min\u001b[0m \u001b[0mself\u001b[0m\u001b[0;34m.\u001b[0m\u001b[0m_accessors\u001b[0m\u001b[0;34m\u001b[0m\u001b[0;34m\u001b[0m\u001b[0m\n\u001b[1;32m   5986\u001b[0m             \u001b[0;32mand\u001b[0m \u001b[0mself\u001b[0m\u001b[0;34m.\u001b[0m\u001b[0m_info_axis\u001b[0m\u001b[0;34m.\u001b[0m\u001b[0m_can_hold_identifiers_and_holds_name\u001b[0m\u001b[0;34m(\u001b[0m\u001b[0mname\u001b[0m\u001b[0;34m)\u001b[0m\u001b[0;34m\u001b[0m\u001b[0;34m\u001b[0m\u001b[0m\n\u001b[1;32m   5987\u001b[0m         ):\n\u001b[1;32m   5988\u001b[0m             \u001b[0;32mreturn\u001b[0m \u001b[0mself\u001b[0m\u001b[0;34m[\u001b[0m\u001b[0mname\u001b[0m\u001b[0;34m]\u001b[0m\u001b[0;34m\u001b[0m\u001b[0;34m\u001b[0m\u001b[0m\n\u001b[0;32m-> 5989\u001b[0;31m         \u001b[0;32mreturn\u001b[0m \u001b[0mobject\u001b[0m\u001b[0;34m.\u001b[0m\u001b[0m__getattribute__\u001b[0m\u001b[0;34m(\u001b[0m\u001b[0mself\u001b[0m\u001b[0;34m,\u001b[0m \u001b[0mname\u001b[0m\u001b[0;34m)\u001b[0m\u001b[0;34m\u001b[0m\u001b[0;34m\u001b[0m\u001b[0m\n\u001b[0m",
      "\u001b[0;31mAttributeError\u001b[0m: 'DataFrame' object has no attribute 'sample_ret'"
     ]
    }
   ],
   "source": [
    "plt.hist(df.sample_ret, bins=20, alpha=0.5, label='Sample')\n",
    "plt.hist(df.SP_ret, alpha=0.5, label='SP500')\n",
    "plt.xlabel('Value')\n",
    "plt.ylabel('Frequency')\n",
    "plt.title('Histogram of Sample_Ret and SP500')\n",
    "plt.legend()\n",
    "\n",
    "# Display the plot\n",
    "plt.show()"
   ]
  },
  {
   "cell_type": "code",
   "execution_count": 194,
   "id": "ae1c7c38",
   "metadata": {},
   "outputs": [],
   "source": [
    "Vol_df = RET_df.merge(SP500, how='left', left_on='Date', right_index=True)"
   ]
  },
  {
   "cell_type": "code",
   "execution_count": 195,
   "id": "34edbd20",
   "metadata": {},
   "outputs": [],
   "source": [
    "Vol_df = Vol_df[abs(Vol_df.Close) > .01 ].sort_values(by='Date', ascending=True)"
   ]
  },
  {
   "cell_type": "code",
   "execution_count": 196,
   "id": "01f11760",
   "metadata": {},
   "outputs": [],
   "source": [
    "Vol_df['CumRet'] = (1 + Vol_df.NextReturn).cumprod() - 1"
   ]
  },
  {
   "cell_type": "code",
   "execution_count": 197,
   "id": "566632a3",
   "metadata": {},
   "outputs": [
    {
     "data": {
      "text/html": [
       "<div>\n",
       "<style scoped>\n",
       "    .dataframe tbody tr th:only-of-type {\n",
       "        vertical-align: middle;\n",
       "    }\n",
       "\n",
       "    .dataframe tbody tr th {\n",
       "        vertical-align: top;\n",
       "    }\n",
       "\n",
       "    .dataframe thead th {\n",
       "        text-align: right;\n",
       "    }\n",
       "</style>\n",
       "<table border=\"1\" class=\"dataframe\">\n",
       "  <thead>\n",
       "    <tr style=\"text-align: right;\">\n",
       "      <th></th>\n",
       "      <th>Date</th>\n",
       "      <th>Ticker</th>\n",
       "      <th>Return</th>\n",
       "      <th>NextReturn</th>\n",
       "      <th>Close</th>\n",
       "      <th>CumRet</th>\n",
       "    </tr>\n",
       "  </thead>\n",
       "  <tbody>\n",
       "    <tr>\n",
       "      <th>682</th>\n",
       "      <td>2010-01-20</td>\n",
       "      <td>BBD</td>\n",
       "      <td>-0.112965</td>\n",
       "      <td>-0.052660</td>\n",
       "      <td>-0.010598</td>\n",
       "      <td>-5.265980e-02</td>\n",
       "    </tr>\n",
       "    <tr>\n",
       "      <th>6570</th>\n",
       "      <td>2010-01-22</td>\n",
       "      <td>WDC</td>\n",
       "      <td>-0.100464</td>\n",
       "      <td>0.018409</td>\n",
       "      <td>-0.022141</td>\n",
       "      <td>-3.521982e-02</td>\n",
       "    </tr>\n",
       "    <tr>\n",
       "      <th>325</th>\n",
       "      <td>2010-01-22</td>\n",
       "      <td>AMD</td>\n",
       "      <td>-0.123470</td>\n",
       "      <td>0.024112</td>\n",
       "      <td>-0.022141</td>\n",
       "      <td>-1.195740e-02</td>\n",
       "    </tr>\n",
       "    <tr>\n",
       "      <th>2159</th>\n",
       "      <td>2010-01-22</td>\n",
       "      <td>ENTG</td>\n",
       "      <td>-0.118644</td>\n",
       "      <td>-0.012019</td>\n",
       "      <td>-0.022141</td>\n",
       "      <td>-2.383285e-02</td>\n",
       "    </tr>\n",
       "    <tr>\n",
       "      <th>1416</th>\n",
       "      <td>2010-01-22</td>\n",
       "      <td>COF</td>\n",
       "      <td>-0.121077</td>\n",
       "      <td>-0.037836</td>\n",
       "      <td>-0.022141</td>\n",
       "      <td>-6.076745e-02</td>\n",
       "    </tr>\n",
       "    <tr>\n",
       "      <th>...</th>\n",
       "      <td>...</td>\n",
       "      <td>...</td>\n",
       "      <td>...</td>\n",
       "      <td>...</td>\n",
       "      <td>...</td>\n",
       "      <td>...</td>\n",
       "    </tr>\n",
       "    <tr>\n",
       "      <th>2178</th>\n",
       "      <td>2023-05-05</td>\n",
       "      <td>EPAM</td>\n",
       "      <td>-0.103325</td>\n",
       "      <td>-0.043923</td>\n",
       "      <td>0.018475</td>\n",
       "      <td>1.173067e+45</td>\n",
       "    </tr>\n",
       "    <tr>\n",
       "      <th>870</th>\n",
       "      <td>2023-05-05</td>\n",
       "      <td>BIO</td>\n",
       "      <td>-0.167247</td>\n",
       "      <td>-0.017781</td>\n",
       "      <td>0.018475</td>\n",
       "      <td>1.152209e+45</td>\n",
       "    </tr>\n",
       "    <tr>\n",
       "      <th>3401</th>\n",
       "      <td>2023-05-23</td>\n",
       "      <td>LBTYB</td>\n",
       "      <td>-0.110130</td>\n",
       "      <td>-0.007589</td>\n",
       "      <td>-0.011222</td>\n",
       "      <td>1.143465e+45</td>\n",
       "    </tr>\n",
       "    <tr>\n",
       "      <th>6357</th>\n",
       "      <td>2023-05-26</td>\n",
       "      <td>ULTA</td>\n",
       "      <td>-0.133678</td>\n",
       "      <td>-0.019202</td>\n",
       "      <td>0.013049</td>\n",
       "      <td>1.121508e+45</td>\n",
       "    </tr>\n",
       "    <tr>\n",
       "      <th>2788</th>\n",
       "      <td>2023-06-02</td>\n",
       "      <td>GWRE</td>\n",
       "      <td>-0.144254</td>\n",
       "      <td>0.017915</td>\n",
       "      <td>0.014534</td>\n",
       "      <td>1.141600e+45</td>\n",
       "    </tr>\n",
       "  </tbody>\n",
       "</table>\n",
       "<p>4637 rows × 6 columns</p>\n",
       "</div>"
      ],
      "text/plain": [
       "           Date Ticker    Return  NextReturn     Close        CumRet\n",
       "682  2010-01-20    BBD -0.112965   -0.052660 -0.010598 -5.265980e-02\n",
       "6570 2010-01-22    WDC -0.100464    0.018409 -0.022141 -3.521982e-02\n",
       "325  2010-01-22    AMD -0.123470    0.024112 -0.022141 -1.195740e-02\n",
       "2159 2010-01-22   ENTG -0.118644   -0.012019 -0.022141 -2.383285e-02\n",
       "1416 2010-01-22    COF -0.121077   -0.037836 -0.022141 -6.076745e-02\n",
       "...         ...    ...       ...         ...       ...           ...\n",
       "2178 2023-05-05   EPAM -0.103325   -0.043923  0.018475  1.173067e+45\n",
       "870  2023-05-05    BIO -0.167247   -0.017781  0.018475  1.152209e+45\n",
       "3401 2023-05-23  LBTYB -0.110130   -0.007589 -0.011222  1.143465e+45\n",
       "6357 2023-05-26   ULTA -0.133678   -0.019202  0.013049  1.121508e+45\n",
       "2788 2023-06-02   GWRE -0.144254    0.017915  0.014534  1.141600e+45\n",
       "\n",
       "[4637 rows x 6 columns]"
      ]
     },
     "execution_count": 197,
     "metadata": {},
     "output_type": "execute_result"
    }
   ],
   "source": [
    "Vol_df"
   ]
  },
  {
   "cell_type": "markdown",
   "id": "f5ef807c",
   "metadata": {},
   "source": [
    "<h1> Let's explore more slices of this strategy, maybe we will extend the investing period to 2-3 days after an adverse return. We can also look at bigger cap versus smaller cap. we can also make add sentiment analysis to each quarter based on news stories, or general volitility </h1>"
   ]
  },
  {
   "cell_type": "code",
   "execution_count": 97,
   "id": "13409af3",
   "metadata": {},
   "outputs": [],
   "source": [
    "Ticker2 = []\n",
    "Date2 = []\n",
    "ret2 = []\n",
    "after_ret2 = []\n",
    "after_after_ret = []\n",
    "\n",
    "\n",
    "for b, c in zip(range(len(SS_df.columns)), SS_df.columns):\n",
    "    for j,k,l,m in zip(SS_df.iloc[:,b], SS_df.iloc[1:,b], SS_df.index, SS_df.iloc[2:,b]):\n",
    "        if j <= -.1:\n",
    "            ret2.append(j)\n",
    "            after_ret2.append(k)\n",
    "            Date2.append(l)\n",
    "            Ticker2.append(c) \n",
    "            after_after_ret.append(m)\n",
    "            \n",
    "RET2_df = pd.DataFrame({'Date': Date2, 'Ticker': Ticker2, 'Return': ret2, 'NextReturn': after_ret, 'NextNextReturn': after_after_ret})"
   ]
  },
  {
   "cell_type": "code",
   "execution_count": 98,
   "id": "e5752f6d",
   "metadata": {},
   "outputs": [
    {
     "data": {
      "image/png": "[encoded data removed]",
      "text/plain": [
       "<Figure size 640x480 with 1 Axes>"
      ]
     },
     "metadata": {},
     "output_type": "display_data"
    },
    {
     "data": {
      "text/plain": [
       "<Figure size 200x200 with 0 Axes>"
      ]
     },
     "metadata": {},
     "output_type": "display_data"
    }
   ],
   "source": [
    "plt.hist(RET2_df.NextNextReturn, bins='auto', alpha=.5, color='red')\n",
    "plt.hist(RET2_df.NextReturn, bins='auto', alpha=.5, color='green')\n",
    "    \n",
    "plt.title(f'Histogram of NextReturn versus NNReturn')\n",
    "plt.xlabel('Return')\n",
    "plt.ylabel('Frequency')\n",
    "plt.figure(figsize=(2,2))\n",
    "\n",
    "plt.show()"
   ]
  },
  {
   "cell_type": "markdown",
   "id": "c535e66b",
   "metadata": {},
   "source": [
    "<h1> Cap separation... Companies more established and over 50BN in market cap. Do they have more stable day-after return behavior? </h1>"
   ]
  },
  {
   "cell_type": "code",
   "execution_count": 99,
   "id": "e9a4c2d7",
   "metadata": {},
   "outputs": [],
   "source": [
    "exclude = ['AAPL', 'BRK/A', 'BRK/B', 'FISV', 'PDD']\n",
    "\n",
    "cap50 = tickers[(tickers['Market Cap'] > 5e+10)].Symbol.to_list()"
   ]
  },
  {
   "cell_type": "code",
   "execution_count": 100,
   "id": "f60600e7",
   "metadata": {},
   "outputs": [],
   "source": [
    "cap50 = [i for i in cap50 if i not in exclude]"
   ]
  },
  {
   "cell_type": "code",
   "execution_count": 101,
   "id": "62432d59",
   "metadata": {
    "scrolled": true
   },
   "outputs": [],
   "source": [
    "SS_df_50 = SS_df[cap50]\n",
    "\n",
    "Ticker50 = []\n",
    "Date50 = []\n",
    "ret50 = []\n",
    "after_ret50 = []\n",
    "\n",
    "\n",
    "\n",
    "for b, c in zip(range(len(SS_df_50.columns)), SS_df_50.columns):\n",
    "    for j,k,l in zip(SS_df_50.iloc[:,b], SS_df_50.iloc[1:,b], SS_df_50.index):\n",
    "        if j <= -.1:\n",
    "            ret50.append(j)\n",
    "            after_ret50.append(k)\n",
    "            Date50.append(l)\n",
    "            Ticker50.append(c) \n",
    "\n",
    "RET50_df = pd.DataFrame({'Date': Date50, 'Ticker': Ticker50, 'Return': ret50, 'NextReturn': after_ret50})"
   ]
  },
  {
   "cell_type": "code",
   "execution_count": 102,
   "id": "d524eaac",
   "metadata": {},
   "outputs": [
    {
     "data": {
      "text/plain": [
       "0.026536228461814793"
      ]
     },
     "execution_count": 102,
     "metadata": {},
     "output_type": "execute_result"
    }
   ],
   "source": [
    "RET50_df.NextReturn.mean()"
   ]
  },
  {
   "cell_type": "code",
   "execution_count": 103,
   "id": "907ff073",
   "metadata": {},
   "outputs": [
    {
     "data": {
      "text/plain": [
       "0.018006143646755526"
      ]
     },
     "execution_count": 103,
     "metadata": {},
     "output_type": "execute_result"
    }
   ],
   "source": [
    "RET_df.NextReturn.mean()"
   ]
  },
  {
   "cell_type": "code",
   "execution_count": 104,
   "id": "2ad886fb",
   "metadata": {},
   "outputs": [
    {
     "data": {
      "image/png": "[encoded data removed]",
      "text/plain": [
       "<Figure size 640x480 with 1 Axes>"
      ]
     },
     "metadata": {},
     "output_type": "display_data"
    },
    {
     "data": {
      "text/plain": [
       "<Figure size 1200x1200 with 0 Axes>"
      ]
     },
     "metadata": {},
     "output_type": "display_data"
    }
   ],
   "source": [
    "plt.hist(RET50_df.NextReturn, bins='auto', alpha=.3, color='green', density=True)\n",
    "plt.hist(RET_df.NextReturn, bins='auto', alpha=.2, color='blue', density=True)   \n",
    "plt.title(f'Histogram of NextReturn versus NNReturn')\n",
    "plt.xlabel('Return')\n",
    "plt.ylabel('Frequency')\n",
    "plt.figure(figsize=(12,12))\n",
    "\n",
    "plt.show()"
   ]
  },
  {
   "cell_type": "markdown",
   "id": "3912a18e",
   "metadata": {},
   "source": [
    "<h1> It seems that isolating comapnies >50BN cap takes out some variance, and also creates a better return and profile </h1>"
   ]
  },
  {
   "cell_type": "code",
   "execution_count": 105,
   "id": "d5499efe",
   "metadata": {},
   "outputs": [
    {
     "name": "stdout",
     "output_type": "stream",
     "text": [
      "[*********************100%***********************]  1 of 1 completed\n"
     ]
    },
    {
     "name": "stderr",
     "output_type": "stream",
     "text": [
      "/var/folders/v8/l9k84q0j5dvb69nc7wjtd5x80000gn/T/ipykernel_75044/875970174.py:34: RuntimeWarning: Mean of empty slice\n",
      "  SP_m = np.nanmean(SP5002)\n",
      "/var/folders/v8/l9k84q0j5dvb69nc7wjtd5x80000gn/T/ipykernel_75044/875970174.py:36: RuntimeWarning: Mean of empty slice\n",
      "  population_mean2 = np.nanmean(SS_df2)\n",
      "/Library/Frameworks/Python.framework/Versions/3.11/lib/python3.11/site-packages/numpy/lib/nanfunctions.py:1872: RuntimeWarning: Degrees of freedom <= 0 for slice.\n",
      "  var = nanvar(a, axis=axis, dtype=dtype, out=out, ddof=ddof,\n"
     ]
    }
   ],
   "source": [
    "current_year = datetime.datetime.now().year\n",
    "start_year = 2010\n",
    "\n",
    "quarters = []\n",
    "\n",
    "for year in range(start_year, current_year + 1):\n",
    "    for quarter in range(1, 5):\n",
    "        quarter_start = datetime.datetime(year, (quarter - 1) * 3 + 1, 1)\n",
    "        quarters.append(quarter_start)\n",
    "\n",
    "\n",
    "quarters = [str(i) for i in quarters]\n",
    "SS_df.index = SS_df.index\n",
    "\n",
    "i_quarter = []\n",
    "i_sample_m = []\n",
    "i_sample_std = []\n",
    "i_pop_m = []\n",
    "i_pop_std = []\n",
    "i_zscore = []\n",
    "i_pval = []\n",
    "i_SP_m = []\n",
    "\n",
    "SP500 = yf.download(\"^GSPC\").Close\n",
    "SP500 = pd.DataFrame(SP500.pct_change())\n",
    "\n",
    "\n",
    "for i,j in zip(quarters, quarters[1:]):\n",
    "    SS_df2 = SS_df_50[(SS_df_50.index > i) & (SS_df_50.index < j)]\n",
    "    Viz_df2 = RET50_df[(RET50_df.Date > i) & (RET50_df.Date < j)]\n",
    "    \n",
    "    \n",
    "    SP5002 = SP500[(SP500.index > i) & (SP500.index < j)]\n",
    "    SP_m = np.nanmean(SP5002)\n",
    "    \n",
    "    population_mean2 = np.nanmean(SS_df2)\n",
    "    population_std2 = np.nanstd(SS_df2)\n",
    "    ret_mean2 = np.mean(Viz_df2.NextReturn)\n",
    "    ret_std2 = np.std(Viz_df2.NextReturn, ddof=1)\n",
    "\n",
    "    n2 = len(Viz_df2.NextReturn)\n",
    "    z2 = (ret_mean2 - population_mean2) / (ret_std2 / np.sqrt(n2))\n",
    "\n",
    "    p_value2 = round(1 - norm.cdf(z2),3)\n",
    "\n",
    "\n",
    "    i_quarter.append(i)\n",
    "    i_sample_m.append(ret_mean2)\n",
    "    i_sample_std.append(ret_std2)\n",
    "    i_pop_m.append(population_mean2)\n",
    "    i_pop_std.append(population_std2)\n",
    "    i_zscore.append(z2)\n",
    "    i_pval.append(p_value2)\n",
    "    i_SP_m.append(SP_m)\n",
    "\n",
    "df = pd.DataFrame({'date': i_quarter, 's_mean': i_sample_m, 's_std':i_sample_std\n",
    "            , 'pop_mean': i_pop_m, 'pop_std': i_pop_std,\n",
    "            'z': i_zscore, 'p': i_pval, 'SP500': i_SP_m})\n",
    "\n",
    "df['Perform'] = np.where(df.s_mean > df.SP500, 'Outperform', 'Underperform')"
   ]
  },
  {
   "cell_type": "code",
   "execution_count": 107,
   "id": "dc047133",
   "metadata": {},
   "outputs": [],
   "source": [
    "RET50_df_plot = RET50_df.sort_values(by='Date').reset_index()\n",
    "RET50_df_plot = RET50_df_plot[RET50_df_plot.Date > '2023-01-01']\n",
    "RET50_df_plot['CumRet'] = (1 + RET50_df_plot.NextReturn).cumprod() - 1"
   ]
  },
  {
   "cell_type": "code",
   "execution_count": 108,
   "id": "fc48d9d1",
   "metadata": {},
   "outputs": [
    {
     "data": {
      "text/plain": [
       "<Axes: >"
      ]
     },
     "execution_count": 108,
     "metadata": {},
     "output_type": "execute_result"
    },
    {
     "data": {
      "image/png": "[encoded data removed]",
      "text/plain": [
       "<Figure size 640x480 with 1 Axes>"
      ]
     },
     "metadata": {},
     "output_type": "display_data"
    }
   ],
   "source": [
    "RET50_df_plot['CumRet'].plot()"
   ]
  },
  {
   "cell_type": "code",
   "execution_count": 109,
   "id": "dcec393d",
   "metadata": {
    "scrolled": true
   },
   "outputs": [
    {
     "data": {
      "text/html": [
       "<div>\n",
       "<style scoped>\n",
       "    .dataframe tbody tr th:only-of-type {\n",
       "        vertical-align: middle;\n",
       "    }\n",
       "\n",
       "    .dataframe tbody tr th {\n",
       "        vertical-align: top;\n",
       "    }\n",
       "\n",
       "    .dataframe thead th {\n",
       "        text-align: right;\n",
       "    }\n",
       "</style>\n",
       "<table border=\"1\" class=\"dataframe\">\n",
       "  <thead>\n",
       "    <tr style=\"text-align: right;\">\n",
       "      <th></th>\n",
       "      <th>date</th>\n",
       "      <th>s_mean</th>\n",
       "      <th>s_std</th>\n",
       "      <th>pop_mean</th>\n",
       "      <th>pop_std</th>\n",
       "      <th>z</th>\n",
       "      <th>p</th>\n",
       "      <th>SP500</th>\n",
       "      <th>Perform</th>\n",
       "    </tr>\n",
       "  </thead>\n",
       "  <tbody>\n",
       "    <tr>\n",
       "      <th>40</th>\n",
       "      <td>2020-01-01 00:00:00</td>\n",
       "      <td>0.051826</td>\n",
       "      <td>0.080759</td>\n",
       "      <td>-0.003538</td>\n",
       "      <td>0.045137</td>\n",
       "      <td>13.625036</td>\n",
       "      <td>0.000</td>\n",
       "      <td>-0.002953</td>\n",
       "      <td>Outperform</td>\n",
       "    </tr>\n",
       "    <tr>\n",
       "      <th>41</th>\n",
       "      <td>2020-04-01 00:00:00</td>\n",
       "      <td>0.029673</td>\n",
       "      <td>0.070588</td>\n",
       "      <td>0.003888</td>\n",
       "      <td>0.030121</td>\n",
       "      <td>1.549810</td>\n",
       "      <td>0.061</td>\n",
       "      <td>0.003852</td>\n",
       "      <td>Outperform</td>\n",
       "    </tr>\n",
       "    <tr>\n",
       "      <th>6</th>\n",
       "      <td>2011-07-01 00:00:00</td>\n",
       "      <td>0.025668</td>\n",
       "      <td>0.066076</td>\n",
       "      <td>-0.002681</td>\n",
       "      <td>0.027341</td>\n",
       "      <td>2.845943</td>\n",
       "      <td>0.002</td>\n",
       "      <td>-0.002459</td>\n",
       "      <td>Outperform</td>\n",
       "    </tr>\n",
       "    <tr>\n",
       "      <th>49</th>\n",
       "      <td>2022-04-01 00:00:00</td>\n",
       "      <td>0.001695</td>\n",
       "      <td>0.041722</td>\n",
       "      <td>-0.002122</td>\n",
       "      <td>0.025483</td>\n",
       "      <td>0.501095</td>\n",
       "      <td>0.308</td>\n",
       "      <td>-0.002837</td>\n",
       "      <td>Outperform</td>\n",
       "    </tr>\n",
       "    <tr>\n",
       "      <th>48</th>\n",
       "      <td>2022-01-01 00:00:00</td>\n",
       "      <td>-0.002010</td>\n",
       "      <td>0.055478</td>\n",
       "      <td>0.000012</td>\n",
       "      <td>0.024455</td>\n",
       "      <td>-0.154610</td>\n",
       "      <td>0.561</td>\n",
       "      <td>-0.000728</td>\n",
       "      <td>Underperform</td>\n",
       "    </tr>\n",
       "    <tr>\n",
       "      <th>7</th>\n",
       "      <td>2011-10-01 00:00:00</td>\n",
       "      <td>0.013790</td>\n",
       "      <td>0.027117</td>\n",
       "      <td>0.001784</td>\n",
       "      <td>0.024373</td>\n",
       "      <td>1.328275</td>\n",
       "      <td>0.092</td>\n",
       "      <td>0.001819</td>\n",
       "      <td>Outperform</td>\n",
       "    </tr>\n",
       "    <tr>\n",
       "      <th>24</th>\n",
       "      <td>2016-01-01 00:00:00</td>\n",
       "      <td>-0.010828</td>\n",
       "      <td>0.060106</td>\n",
       "      <td>0.000446</td>\n",
       "      <td>0.022968</td>\n",
       "      <td>-0.649761</td>\n",
       "      <td>0.742</td>\n",
       "      <td>0.000193</td>\n",
       "      <td>Underperform</td>\n",
       "    </tr>\n",
       "    <tr>\n",
       "      <th>51</th>\n",
       "      <td>2022-10-01 00:00:00</td>\n",
       "      <td>0.011249</td>\n",
       "      <td>0.027457</td>\n",
       "      <td>0.002104</td>\n",
       "      <td>0.022918</td>\n",
       "      <td>1.332135</td>\n",
       "      <td>0.091</td>\n",
       "      <td>0.001208</td>\n",
       "      <td>Outperform</td>\n",
       "    </tr>\n",
       "    <tr>\n",
       "      <th>35</th>\n",
       "      <td>2018-10-01 00:00:00</td>\n",
       "      <td>-0.008576</td>\n",
       "      <td>0.054822</td>\n",
       "      <td>-0.002044</td>\n",
       "      <td>0.022061</td>\n",
       "      <td>-0.461448</td>\n",
       "      <td>0.678</td>\n",
       "      <td>-0.002371</td>\n",
       "      <td>Underperform</td>\n",
       "    </tr>\n",
       "    <tr>\n",
       "      <th>1</th>\n",
       "      <td>2010-04-01 00:00:00</td>\n",
       "      <td>0.034244</td>\n",
       "      <td>0.050454</td>\n",
       "      <td>-0.001809</td>\n",
       "      <td>0.021890</td>\n",
       "      <td>2.021101</td>\n",
       "      <td>0.022</td>\n",
       "      <td>-0.002031</td>\n",
       "      <td>Outperform</td>\n",
       "    </tr>\n",
       "    <tr>\n",
       "      <th>43</th>\n",
       "      <td>2020-10-01 00:00:00</td>\n",
       "      <td>-0.019655</td>\n",
       "      <td>0.032725</td>\n",
       "      <td>0.002511</td>\n",
       "      <td>0.021671</td>\n",
       "      <td>-1.659098</td>\n",
       "      <td>0.951</td>\n",
       "      <td>0.001725</td>\n",
       "      <td>Underperform</td>\n",
       "    </tr>\n",
       "    <tr>\n",
       "      <th>44</th>\n",
       "      <td>2021-01-01 00:00:00</td>\n",
       "      <td>0.008556</td>\n",
       "      <td>0.058033</td>\n",
       "      <td>0.001464</td>\n",
       "      <td>0.021129</td>\n",
       "      <td>0.211677</td>\n",
       "      <td>0.416</td>\n",
       "      <td>0.000970</td>\n",
       "      <td>Outperform</td>\n",
       "    </tr>\n",
       "    <tr>\n",
       "      <th>50</th>\n",
       "      <td>2022-07-01 00:00:00</td>\n",
       "      <td>0.021064</td>\n",
       "      <td>0.040208</td>\n",
       "      <td>-0.000995</td>\n",
       "      <td>0.020837</td>\n",
       "      <td>1.734915</td>\n",
       "      <td>0.041</td>\n",
       "      <td>-0.000937</td>\n",
       "      <td>Outperform</td>\n",
       "    </tr>\n",
       "    <tr>\n",
       "      <th>22</th>\n",
       "      <td>2015-07-01 00:00:00</td>\n",
       "      <td>-0.030561</td>\n",
       "      <td>0.030382</td>\n",
       "      <td>-0.001132</td>\n",
       "      <td>0.020038</td>\n",
       "      <td>-1.677690</td>\n",
       "      <td>0.953</td>\n",
       "      <td>-0.001163</td>\n",
       "      <td>Underperform</td>\n",
       "    </tr>\n",
       "    <tr>\n",
       "      <th>42</th>\n",
       "      <td>2020-07-01 00:00:00</td>\n",
       "      <td>0.022026</td>\n",
       "      <td>0.046028</td>\n",
       "      <td>0.001017</td>\n",
       "      <td>0.019854</td>\n",
       "      <td>1.207582</td>\n",
       "      <td>0.114</td>\n",
       "      <td>0.001269</td>\n",
       "      <td>Outperform</td>\n",
       "    </tr>\n",
       "    <tr>\n",
       "      <th>52</th>\n",
       "      <td>2023-01-01 00:00:00</td>\n",
       "      <td>-0.012480</td>\n",
       "      <td>0.070508</td>\n",
       "      <td>0.001052</td>\n",
       "      <td>0.018825</td>\n",
       "      <td>-0.575766</td>\n",
       "      <td>0.718</td>\n",
       "      <td>0.001151</td>\n",
       "      <td>Underperform</td>\n",
       "    </tr>\n",
       "    <tr>\n",
       "      <th>9</th>\n",
       "      <td>2012-04-01 00:00:00</td>\n",
       "      <td>-0.003402</td>\n",
       "      <td>0.043140</td>\n",
       "      <td>-0.000638</td>\n",
       "      <td>0.018614</td>\n",
       "      <td>-0.221923</td>\n",
       "      <td>0.588</td>\n",
       "      <td>-0.000479</td>\n",
       "      <td>Underperform</td>\n",
       "    </tr>\n",
       "    <tr>\n",
       "      <th>25</th>\n",
       "      <td>2016-04-01 00:00:00</td>\n",
       "      <td>-0.017414</td>\n",
       "      <td>0.041009</td>\n",
       "      <td>0.000686</td>\n",
       "      <td>0.018520</td>\n",
       "      <td>-1.709440</td>\n",
       "      <td>0.956</td>\n",
       "      <td>0.000235</td>\n",
       "      <td>Underperform</td>\n",
       "    </tr>\n",
       "    <tr>\n",
       "      <th>47</th>\n",
       "      <td>2021-10-01 00:00:00</td>\n",
       "      <td>-0.004341</td>\n",
       "      <td>0.054381</td>\n",
       "      <td>0.001260</td>\n",
       "      <td>0.018117</td>\n",
       "      <td>-0.385315</td>\n",
       "      <td>0.650</td>\n",
       "      <td>0.001463</td>\n",
       "      <td>Underperform</td>\n",
       "    </tr>\n",
       "    <tr>\n",
       "      <th>13</th>\n",
       "      <td>2013-04-01 00:00:00</td>\n",
       "      <td>0.011223</td>\n",
       "      <td>0.044982</td>\n",
       "      <td>0.000719</td>\n",
       "      <td>0.018051</td>\n",
       "      <td>0.660481</td>\n",
       "      <td>0.254</td>\n",
       "      <td>0.000481</td>\n",
       "      <td>Outperform</td>\n",
       "    </tr>\n",
       "    <tr>\n",
       "      <th>32</th>\n",
       "      <td>2018-01-01 00:00:00</td>\n",
       "      <td>-0.015541</td>\n",
       "      <td>0.023464</td>\n",
       "      <td>0.000144</td>\n",
       "      <td>0.018004</td>\n",
       "      <td>-1.494710</td>\n",
       "      <td>0.933</td>\n",
       "      <td>-0.000124</td>\n",
       "      <td>Underperform</td>\n",
       "    </tr>\n",
       "    <tr>\n",
       "      <th>2</th>\n",
       "      <td>2010-07-01 00:00:00</td>\n",
       "      <td>-0.025761</td>\n",
       "      <td>0.079204</td>\n",
       "      <td>0.002166</td>\n",
       "      <td>0.018002</td>\n",
       "      <td>-0.788432</td>\n",
       "      <td>0.785</td>\n",
       "      <td>0.001734</td>\n",
       "      <td>Underperform</td>\n",
       "    </tr>\n",
       "    <tr>\n",
       "      <th>23</th>\n",
       "      <td>2015-10-01 00:00:00</td>\n",
       "      <td>0.009697</td>\n",
       "      <td>0.033637</td>\n",
       "      <td>0.000867</td>\n",
       "      <td>0.017663</td>\n",
       "      <td>0.643030</td>\n",
       "      <td>0.260</td>\n",
       "      <td>0.001005</td>\n",
       "      <td>Outperform</td>\n",
       "    </tr>\n",
       "    <tr>\n",
       "      <th>19</th>\n",
       "      <td>2014-10-01 00:00:00</td>\n",
       "      <td>-0.005206</td>\n",
       "      <td>0.036756</td>\n",
       "      <td>0.000775</td>\n",
       "      <td>0.017194</td>\n",
       "      <td>-0.514572</td>\n",
       "      <td>0.697</td>\n",
       "      <td>0.000933</td>\n",
       "      <td>Underperform</td>\n",
       "    </tr>\n",
       "    <tr>\n",
       "      <th>53</th>\n",
       "      <td>2023-04-01 00:00:00</td>\n",
       "      <td>-0.000353</td>\n",
       "      <td>0.025986</td>\n",
       "      <td>0.000421</td>\n",
       "      <td>0.017007</td>\n",
       "      <td>-0.072953</td>\n",
       "      <td>0.529</td>\n",
       "      <td>0.001314</td>\n",
       "      <td>Underperform</td>\n",
       "    </tr>\n",
       "    <tr>\n",
       "      <th>20</th>\n",
       "      <td>2015-01-01 00:00:00</td>\n",
       "      <td>-0.018455</td>\n",
       "      <td>0.007120</td>\n",
       "      <td>0.000351</td>\n",
       "      <td>0.016827</td>\n",
       "      <td>-5.282543</td>\n",
       "      <td>1.000</td>\n",
       "      <td>0.000110</td>\n",
       "      <td>Underperform</td>\n",
       "    </tr>\n",
       "    <tr>\n",
       "      <th>36</th>\n",
       "      <td>2019-01-01 00:00:00</td>\n",
       "      <td>0.008734</td>\n",
       "      <td>0.032442</td>\n",
       "      <td>0.002435</td>\n",
       "      <td>0.016802</td>\n",
       "      <td>0.549162</td>\n",
       "      <td>0.291</td>\n",
       "      <td>0.002051</td>\n",
       "      <td>Outperform</td>\n",
       "    </tr>\n",
       "    <tr>\n",
       "      <th>38</th>\n",
       "      <td>2019-07-01 00:00:00</td>\n",
       "      <td>0.007383</td>\n",
       "      <td>0.042166</td>\n",
       "      <td>-0.000160</td>\n",
       "      <td>0.016697</td>\n",
       "      <td>0.473295</td>\n",
       "      <td>0.318</td>\n",
       "      <td>0.000110</td>\n",
       "      <td>Outperform</td>\n",
       "    </tr>\n",
       "    <tr>\n",
       "      <th>10</th>\n",
       "      <td>2012-07-01 00:00:00</td>\n",
       "      <td>-0.009677</td>\n",
       "      <td>0.028463</td>\n",
       "      <td>0.000943</td>\n",
       "      <td>0.016672</td>\n",
       "      <td>-1.179920</td>\n",
       "      <td>0.881</td>\n",
       "      <td>0.000916</td>\n",
       "      <td>Underperform</td>\n",
       "    </tr>\n",
       "    <tr>\n",
       "      <th>0</th>\n",
       "      <td>2010-01-01 00:00:00</td>\n",
       "      <td>0.004867</td>\n",
       "      <td>0.021573</td>\n",
       "      <td>0.000667</td>\n",
       "      <td>0.016596</td>\n",
       "      <td>0.615674</td>\n",
       "      <td>0.269</td>\n",
       "      <td>0.000821</td>\n",
       "      <td>Outperform</td>\n",
       "    </tr>\n",
       "    <tr>\n",
       "      <th>4</th>\n",
       "      <td>2011-01-01 00:00:00</td>\n",
       "      <td>-0.015648</td>\n",
       "      <td>0.005685</td>\n",
       "      <td>0.001234</td>\n",
       "      <td>0.016278</td>\n",
       "      <td>-4.199360</td>\n",
       "      <td>1.000</td>\n",
       "      <td>0.000886</td>\n",
       "      <td>Underperform</td>\n",
       "    </tr>\n",
       "    <tr>\n",
       "      <th>46</th>\n",
       "      <td>2021-07-01 00:00:00</td>\n",
       "      <td>-0.005286</td>\n",
       "      <td>0.024898</td>\n",
       "      <td>0.000023</td>\n",
       "      <td>0.016035</td>\n",
       "      <td>-0.476831</td>\n",
       "      <td>0.683</td>\n",
       "      <td>-0.000021</td>\n",
       "      <td>Underperform</td>\n",
       "    </tr>\n",
       "    <tr>\n",
       "      <th>11</th>\n",
       "      <td>2012-10-01 00:00:00</td>\n",
       "      <td>0.005161</td>\n",
       "      <td>0.064263</td>\n",
       "      <td>0.000362</td>\n",
       "      <td>0.015838</td>\n",
       "      <td>0.258735</td>\n",
       "      <td>0.398</td>\n",
       "      <td>-0.000177</td>\n",
       "      <td>Outperform</td>\n",
       "    </tr>\n",
       "    <tr>\n",
       "      <th>27</th>\n",
       "      <td>2016-10-01 00:00:00</td>\n",
       "      <td>0.005500</td>\n",
       "      <td>0.017862</td>\n",
       "      <td>0.000434</td>\n",
       "      <td>0.015815</td>\n",
       "      <td>0.850904</td>\n",
       "      <td>0.197</td>\n",
       "      <td>0.000523</td>\n",
       "      <td>Outperform</td>\n",
       "    </tr>\n",
       "    <tr>\n",
       "      <th>3</th>\n",
       "      <td>2010-10-01 00:00:00</td>\n",
       "      <td>0.017795</td>\n",
       "      <td>0.033469</td>\n",
       "      <td>0.001483</td>\n",
       "      <td>0.015784</td>\n",
       "      <td>1.193803</td>\n",
       "      <td>0.116</td>\n",
       "      <td>0.001501</td>\n",
       "      <td>Outperform</td>\n",
       "    </tr>\n",
       "    <tr>\n",
       "      <th>37</th>\n",
       "      <td>2019-04-01 00:00:00</td>\n",
       "      <td>0.011745</td>\n",
       "      <td>0.035424</td>\n",
       "      <td>0.000545</td>\n",
       "      <td>0.015760</td>\n",
       "      <td>0.894263</td>\n",
       "      <td>0.186</td>\n",
       "      <td>0.000439</td>\n",
       "      <td>Outperform</td>\n",
       "    </tr>\n",
       "    <tr>\n",
       "      <th>33</th>\n",
       "      <td>2018-04-01 00:00:00</td>\n",
       "      <td>0.002609</td>\n",
       "      <td>0.040088</td>\n",
       "      <td>0.000344</td>\n",
       "      <td>0.015517</td>\n",
       "      <td>0.126306</td>\n",
       "      <td>0.450</td>\n",
       "      <td>0.000483</td>\n",
       "      <td>Outperform</td>\n",
       "    </tr>\n",
       "    <tr>\n",
       "      <th>8</th>\n",
       "      <td>2012-01-01 00:00:00</td>\n",
       "      <td>0.043909</td>\n",
       "      <td>0.111283</td>\n",
       "      <td>0.002143</td>\n",
       "      <td>0.015490</td>\n",
       "      <td>0.650073</td>\n",
       "      <td>0.258</td>\n",
       "      <td>0.001847</td>\n",
       "      <td>Outperform</td>\n",
       "    </tr>\n",
       "    <tr>\n",
       "      <th>5</th>\n",
       "      <td>2011-04-01 00:00:00</td>\n",
       "      <td>0.012103</td>\n",
       "      <td>0.029843</td>\n",
       "      <td>0.000376</td>\n",
       "      <td>0.015442</td>\n",
       "      <td>0.878689</td>\n",
       "      <td>0.190</td>\n",
       "      <td>-0.000112</td>\n",
       "      <td>Outperform</td>\n",
       "    </tr>\n",
       "    <tr>\n",
       "      <th>12</th>\n",
       "      <td>2013-01-01 00:00:00</td>\n",
       "      <td>-0.013633</td>\n",
       "      <td>0.060780</td>\n",
       "      <td>0.001575</td>\n",
       "      <td>0.015373</td>\n",
       "      <td>-0.707688</td>\n",
       "      <td>0.760</td>\n",
       "      <td>0.001614</td>\n",
       "      <td>Underperform</td>\n",
       "    </tr>\n",
       "    <tr>\n",
       "      <th>45</th>\n",
       "      <td>2021-04-01 00:00:00</td>\n",
       "      <td>0.009222</td>\n",
       "      <td>NaN</td>\n",
       "      <td>0.001228</td>\n",
       "      <td>0.015300</td>\n",
       "      <td>NaN</td>\n",
       "      <td>NaN</td>\n",
       "      <td>0.001102</td>\n",
       "      <td>Outperform</td>\n",
       "    </tr>\n",
       "    <tr>\n",
       "      <th>16</th>\n",
       "      <td>2014-01-01 00:00:00</td>\n",
       "      <td>-0.024292</td>\n",
       "      <td>0.015087</td>\n",
       "      <td>0.000548</td>\n",
       "      <td>0.014886</td>\n",
       "      <td>-2.328450</td>\n",
       "      <td>0.990</td>\n",
       "      <td>0.000239</td>\n",
       "      <td>Underperform</td>\n",
       "    </tr>\n",
       "    <tr>\n",
       "      <th>21</th>\n",
       "      <td>2015-04-01 00:00:00</td>\n",
       "      <td>-0.010505</td>\n",
       "      <td>0.039109</td>\n",
       "      <td>0.000375</td>\n",
       "      <td>0.014643</td>\n",
       "      <td>-0.622054</td>\n",
       "      <td>0.733</td>\n",
       "      <td>0.000047</td>\n",
       "      <td>Underperform</td>\n",
       "    </tr>\n",
       "    <tr>\n",
       "      <th>34</th>\n",
       "      <td>2018-07-01 00:00:00</td>\n",
       "      <td>0.031169</td>\n",
       "      <td>0.071842</td>\n",
       "      <td>0.001058</td>\n",
       "      <td>0.014273</td>\n",
       "      <td>1.108924</td>\n",
       "      <td>0.134</td>\n",
       "      <td>0.001114</td>\n",
       "      <td>Outperform</td>\n",
       "    </tr>\n",
       "    <tr>\n",
       "      <th>14</th>\n",
       "      <td>2013-07-01 00:00:00</td>\n",
       "      <td>0.024484</td>\n",
       "      <td>0.056667</td>\n",
       "      <td>0.001203</td>\n",
       "      <td>0.014198</td>\n",
       "      <td>0.821678</td>\n",
       "      <td>0.206</td>\n",
       "      <td>0.000658</td>\n",
       "      <td>Outperform</td>\n",
       "    </tr>\n",
       "    <tr>\n",
       "      <th>17</th>\n",
       "      <td>2014-04-01 00:00:00</td>\n",
       "      <td>-0.001877</td>\n",
       "      <td>0.030591</td>\n",
       "      <td>0.000871</td>\n",
       "      <td>0.014124</td>\n",
       "      <td>-0.179630</td>\n",
       "      <td>0.571</td>\n",
       "      <td>0.000644</td>\n",
       "      <td>Underperform</td>\n",
       "    </tr>\n",
       "    <tr>\n",
       "      <th>26</th>\n",
       "      <td>2016-07-01 00:00:00</td>\n",
       "      <td>-0.012196</td>\n",
       "      <td>0.031655</td>\n",
       "      <td>0.000843</td>\n",
       "      <td>0.014031</td>\n",
       "      <td>-0.823812</td>\n",
       "      <td>0.795</td>\n",
       "      <td>0.000505</td>\n",
       "      <td>Underperform</td>\n",
       "    </tr>\n",
       "    <tr>\n",
       "      <th>15</th>\n",
       "      <td>2013-10-01 00:00:00</td>\n",
       "      <td>-0.010275</td>\n",
       "      <td>0.039792</td>\n",
       "      <td>0.001238</td>\n",
       "      <td>0.013928</td>\n",
       "      <td>-0.868023</td>\n",
       "      <td>0.807</td>\n",
       "      <td>0.001397</td>\n",
       "      <td>Underperform</td>\n",
       "    </tr>\n",
       "    <tr>\n",
       "      <th>39</th>\n",
       "      <td>2019-10-01 00:00:00</td>\n",
       "      <td>-0.007704</td>\n",
       "      <td>0.016876</td>\n",
       "      <td>0.001690</td>\n",
       "      <td>0.013862</td>\n",
       "      <td>-1.113238</td>\n",
       "      <td>0.867</td>\n",
       "      <td>0.001513</td>\n",
       "      <td>Underperform</td>\n",
       "    </tr>\n",
       "    <tr>\n",
       "      <th>28</th>\n",
       "      <td>2017-01-01 00:00:00</td>\n",
       "      <td>-0.001833</td>\n",
       "      <td>0.016589</td>\n",
       "      <td>0.001333</td>\n",
       "      <td>0.013429</td>\n",
       "      <td>-0.426875</td>\n",
       "      <td>0.665</td>\n",
       "      <td>0.000878</td>\n",
       "      <td>Underperform</td>\n",
       "    </tr>\n",
       "    <tr>\n",
       "      <th>29</th>\n",
       "      <td>2017-04-01 00:00:00</td>\n",
       "      <td>0.031615</td>\n",
       "      <td>0.029264</td>\n",
       "      <td>0.000784</td>\n",
       "      <td>0.013101</td>\n",
       "      <td>2.107081</td>\n",
       "      <td>0.018</td>\n",
       "      <td>0.000413</td>\n",
       "      <td>Outperform</td>\n",
       "    </tr>\n",
       "    <tr>\n",
       "      <th>31</th>\n",
       "      <td>2017-10-01 00:00:00</td>\n",
       "      <td>-0.012477</td>\n",
       "      <td>0.017708</td>\n",
       "      <td>0.000960</td>\n",
       "      <td>0.012968</td>\n",
       "      <td>-1.517623</td>\n",
       "      <td>0.935</td>\n",
       "      <td>0.000950</td>\n",
       "      <td>Underperform</td>\n",
       "    </tr>\n",
       "    <tr>\n",
       "      <th>18</th>\n",
       "      <td>2014-07-01 00:00:00</td>\n",
       "      <td>-0.023874</td>\n",
       "      <td>0.015301</td>\n",
       "      <td>-0.000196</td>\n",
       "      <td>0.012784</td>\n",
       "      <td>-2.188467</td>\n",
       "      <td>0.986</td>\n",
       "      <td>0.000009</td>\n",
       "      <td>Underperform</td>\n",
       "    </tr>\n",
       "    <tr>\n",
       "      <th>30</th>\n",
       "      <td>2017-07-01 00:00:00</td>\n",
       "      <td>-0.013349</td>\n",
       "      <td>0.049287</td>\n",
       "      <td>0.000995</td>\n",
       "      <td>0.012624</td>\n",
       "      <td>-0.582053</td>\n",
       "      <td>0.720</td>\n",
       "      <td>0.000626</td>\n",
       "      <td>Underperform</td>\n",
       "    </tr>\n",
       "    <tr>\n",
       "      <th>54</th>\n",
       "      <td>2023-07-01 00:00:00</td>\n",
       "      <td>NaN</td>\n",
       "      <td>NaN</td>\n",
       "      <td>NaN</td>\n",
       "      <td>NaN</td>\n",
       "      <td>NaN</td>\n",
       "      <td>NaN</td>\n",
       "      <td>NaN</td>\n",
       "      <td>Underperform</td>\n",
       "    </tr>\n",
       "  </tbody>\n",
       "</table>\n",
       "</div>"
      ],
      "text/plain": [
       "                   date    s_mean     s_std  pop_mean   pop_std          z   \n",
       "40  2020-01-01 00:00:00  0.051826  0.080759 -0.003538  0.045137  13.625036  \\\n",
       "41  2020-04-01 00:00:00  0.029673  0.070588  0.003888  0.030121   1.549810   \n",
       "6   2011-07-01 00:00:00  0.025668  0.066076 -0.002681  0.027341   2.845943   \n",
       "49  2022-04-01 00:00:00  0.001695  0.041722 -0.002122  0.025483   0.501095   \n",
       "48  2022-01-01 00:00:00 -0.002010  0.055478  0.000012  0.024455  -0.154610   \n",
       "7   2011-10-01 00:00:00  0.013790  0.027117  0.001784  0.024373   1.328275   \n",
       "24  2016-01-01 00:00:00 -0.010828  0.060106  0.000446  0.022968  -0.649761   \n",
       "51  2022-10-01 00:00:00  0.011249  0.027457  0.002104  0.022918   1.332135   \n",
       "35  2018-10-01 00:00:00 -0.008576  0.054822 -0.002044  0.022061  -0.461448   \n",
       "1   2010-04-01 00:00:00  0.034244  0.050454 -0.001809  0.021890   2.021101   \n",
       "43  2020-10-01 00:00:00 -0.019655  0.032725  0.002511  0.021671  -1.659098   \n",
       "44  2021-01-01 00:00:00  0.008556  0.058033  0.001464  0.021129   0.211677   \n",
       "50  2022-07-01 00:00:00  0.021064  0.040208 -0.000995  0.020837   1.734915   \n",
       "22  2015-07-01 00:00:00 -0.030561  0.030382 -0.001132  0.020038  -1.677690   \n",
       "42  2020-07-01 00:00:00  0.022026  0.046028  0.001017  0.019854   1.207582   \n",
       "52  2023-01-01 00:00:00 -0.012480  0.070508  0.001052  0.018825  -0.575766   \n",
       "9   2012-04-01 00:00:00 -0.003402  0.043140 -0.000638  0.018614  -0.221923   \n",
       "25  2016-04-01 00:00:00 -0.017414  0.041009  0.000686  0.018520  -1.709440   \n",
       "47  2021-10-01 00:00:00 -0.004341  0.054381  0.001260  0.018117  -0.385315   \n",
       "13  2013-04-01 00:00:00  0.011223  0.044982  0.000719  0.018051   0.660481   \n",
       "32  2018-01-01 00:00:00 -0.015541  0.023464  0.000144  0.018004  -1.494710   \n",
       "2   2010-07-01 00:00:00 -0.025761  0.079204  0.002166  0.018002  -0.788432   \n",
       "23  2015-10-01 00:00:00  0.009697  0.033637  0.000867  0.017663   0.643030   \n",
       "19  2014-10-01 00:00:00 -0.005206  0.036756  0.000775  0.017194  -0.514572   \n",
       "53  2023-04-01 00:00:00 -0.000353  0.025986  0.000421  0.017007  -0.072953   \n",
       "20  2015-01-01 00:00:00 -0.018455  0.007120  0.000351  0.016827  -5.282543   \n",
       "36  2019-01-01 00:00:00  0.008734  0.032442  0.002435  0.016802   0.549162   \n",
       "38  2019-07-01 00:00:00  0.007383  0.042166 -0.000160  0.016697   0.473295   \n",
       "10  2012-07-01 00:00:00 -0.009677  0.028463  0.000943  0.016672  -1.179920   \n",
       "0   2010-01-01 00:00:00  0.004867  0.021573  0.000667  0.016596   0.615674   \n",
       "4   2011-01-01 00:00:00 -0.015648  0.005685  0.001234  0.016278  -4.199360   \n",
       "46  2021-07-01 00:00:00 -0.005286  0.024898  0.000023  0.016035  -0.476831   \n",
       "11  2012-10-01 00:00:00  0.005161  0.064263  0.000362  0.015838   0.258735   \n",
       "27  2016-10-01 00:00:00  0.005500  0.017862  0.000434  0.015815   0.850904   \n",
       "3   2010-10-01 00:00:00  0.017795  0.033469  0.001483  0.015784   1.193803   \n",
       "37  2019-04-01 00:00:00  0.011745  0.035424  0.000545  0.015760   0.894263   \n",
       "33  2018-04-01 00:00:00  0.002609  0.040088  0.000344  0.015517   0.126306   \n",
       "8   2012-01-01 00:00:00  0.043909  0.111283  0.002143  0.015490   0.650073   \n",
       "5   2011-04-01 00:00:00  0.012103  0.029843  0.000376  0.015442   0.878689   \n",
       "12  2013-01-01 00:00:00 -0.013633  0.060780  0.001575  0.015373  -0.707688   \n",
       "45  2021-04-01 00:00:00  0.009222       NaN  0.001228  0.015300        NaN   \n",
       "16  2014-01-01 00:00:00 -0.024292  0.015087  0.000548  0.014886  -2.328450   \n",
       "21  2015-04-01 00:00:00 -0.010505  0.039109  0.000375  0.014643  -0.622054   \n",
       "34  2018-07-01 00:00:00  0.031169  0.071842  0.001058  0.014273   1.108924   \n",
       "14  2013-07-01 00:00:00  0.024484  0.056667  0.001203  0.014198   0.821678   \n",
       "17  2014-04-01 00:00:00 -0.001877  0.030591  0.000871  0.014124  -0.179630   \n",
       "26  2016-07-01 00:00:00 -0.012196  0.031655  0.000843  0.014031  -0.823812   \n",
       "15  2013-10-01 00:00:00 -0.010275  0.039792  0.001238  0.013928  -0.868023   \n",
       "39  2019-10-01 00:00:00 -0.007704  0.016876  0.001690  0.013862  -1.113238   \n",
       "28  2017-01-01 00:00:00 -0.001833  0.016589  0.001333  0.013429  -0.426875   \n",
       "29  2017-04-01 00:00:00  0.031615  0.029264  0.000784  0.013101   2.107081   \n",
       "31  2017-10-01 00:00:00 -0.012477  0.017708  0.000960  0.012968  -1.517623   \n",
       "18  2014-07-01 00:00:00 -0.023874  0.015301 -0.000196  0.012784  -2.188467   \n",
       "30  2017-07-01 00:00:00 -0.013349  0.049287  0.000995  0.012624  -0.582053   \n",
       "54  2023-07-01 00:00:00       NaN       NaN       NaN       NaN        NaN   \n",
       "\n",
       "        p     SP500       Perform  \n",
       "40  0.000 -0.002953    Outperform  \n",
       "41  0.061  0.003852    Outperform  \n",
       "6   0.002 -0.002459    Outperform  \n",
       "49  0.308 -0.002837    Outperform  \n",
       "48  0.561 -0.000728  Underperform  \n",
       "7   0.092  0.001819    Outperform  \n",
       "24  0.742  0.000193  Underperform  \n",
       "51  0.091  0.001208    Outperform  \n",
       "35  0.678 -0.002371  Underperform  \n",
       "1   0.022 -0.002031    Outperform  \n",
       "43  0.951  0.001725  Underperform  \n",
       "44  0.416  0.000970    Outperform  \n",
       "50  0.041 -0.000937    Outperform  \n",
       "22  0.953 -0.001163  Underperform  \n",
       "42  0.114  0.001269    Outperform  \n",
       "52  0.718  0.001151  Underperform  \n",
       "9   0.588 -0.000479  Underperform  \n",
       "25  0.956  0.000235  Underperform  \n",
       "47  0.650  0.001463  Underperform  \n",
       "13  0.254  0.000481    Outperform  \n",
       "32  0.933 -0.000124  Underperform  \n",
       "2   0.785  0.001734  Underperform  \n",
       "23  0.260  0.001005    Outperform  \n",
       "19  0.697  0.000933  Underperform  \n",
       "53  0.529  0.001314  Underperform  \n",
       "20  1.000  0.000110  Underperform  \n",
       "36  0.291  0.002051    Outperform  \n",
       "38  0.318  0.000110    Outperform  \n",
       "10  0.881  0.000916  Underperform  \n",
       "0   0.269  0.000821    Outperform  \n",
       "4   1.000  0.000886  Underperform  \n",
       "46  0.683 -0.000021  Underperform  \n",
       "11  0.398 -0.000177    Outperform  \n",
       "27  0.197  0.000523    Outperform  \n",
       "3   0.116  0.001501    Outperform  \n",
       "37  0.186  0.000439    Outperform  \n",
       "33  0.450  0.000483    Outperform  \n",
       "8   0.258  0.001847    Outperform  \n",
       "5   0.190 -0.000112    Outperform  \n",
       "12  0.760  0.001614  Underperform  \n",
       "45    NaN  0.001102    Outperform  \n",
       "16  0.990  0.000239  Underperform  \n",
       "21  0.733  0.000047  Underperform  \n",
       "34  0.134  0.001114    Outperform  \n",
       "14  0.206  0.000658    Outperform  \n",
       "17  0.571  0.000644  Underperform  \n",
       "26  0.795  0.000505  Underperform  \n",
       "15  0.807  0.001397  Underperform  \n",
       "39  0.867  0.001513  Underperform  \n",
       "28  0.665  0.000878  Underperform  \n",
       "29  0.018  0.000413    Outperform  \n",
       "31  0.935  0.000950  Underperform  \n",
       "18  0.986  0.000009  Underperform  \n",
       "30  0.720  0.000626  Underperform  \n",
       "54    NaN       NaN  Underperform  "
      ]
     },
     "execution_count": 109,
     "metadata": {},
     "output_type": "execute_result"
    }
   ],
   "source": [
    "df.sort_values(by='pop_std', ascending=False)"
   ]
  },
  {
   "cell_type": "code",
   "execution_count": null,
   "id": "24fbd288",
   "metadata": {},
   "outputs": [],
   "source": []
  },
  {
   "cell_type": "markdown",
   "id": "59b8da15",
   "metadata": {},
   "source": [
    "<h1> This says that this strategy is effective overall, but very dependent on when you start investing as only 50% of quarters outperform the SP500. Even less are statistically significant... </h1>"
   ]
  },
  {
   "cell_type": "code",
   "execution_count": null,
   "id": "af3e9533",
   "metadata": {
    "scrolled": true
   },
   "outputs": [],
   "source": [
    "import numpy as np\n",
    "from scipy import stats\n",
    "from scipy.stats import norm\n",
    "\n",
    "RET_df2023 = RET_df[RET_df.Date > '2023-01-01']\n",
    "SS_df2023 = SS_df[SS_df.index > '2023-01-01']\n",
    "\n",
    "ret_sample = RET_df2023.NextReturn\n",
    "\n",
    "population_mean = np.nanmean(SS_df2023)\n",
    "population_std = np.nanstd(SS_df2023)\n",
    "ret_mean = np.mean(ret_sample)\n",
    "ret_std = np.std(ret_sample, ddof=1)\n",
    "\n",
    "n = len(ret_sample)\n",
    "z = (ret_mean - population_mean) / (ret_std / np.sqrt(n))\n",
    "\n",
    "p_value = 1 - norm.cdf(z)\n",
    "\n",
    "\n",
    "\n",
    "print(\"Sample Mean:\", ret_mean)\n",
    "print(\"Sample Standard Deviation:\", ret_std)\n",
    "print(\"Population Mean:\", population_mean)\n",
    "print(\"Population Standard Deviation:\", population_std)\n",
    "print('Z-score', z)\n",
    "print('P-val', p_value)"
   ]
  },
  {
   "cell_type": "markdown",
   "id": "21358b10",
   "metadata": {},
   "source": [
    "<h1> Let's track how closely the strategy is correlated to general volitility, and if it does better with or without </h1>"
   ]
  },
  {
   "cell_type": "code",
   "execution_count": null,
   "id": "d6aecb0f",
   "metadata": {},
   "outputs": [],
   "source": []
  },
  {
   "cell_type": "code",
   "execution_count": null,
   "id": "50c35b00",
   "metadata": {},
   "outputs": [],
   "source": []
  },
  {
   "cell_type": "code",
   "execution_count": null,
   "id": "17e126e8",
   "metadata": {},
   "outputs": [],
   "source": []
  },
  {
   "cell_type": "code",
   "execution_count": null,
   "id": "19ae3992",
   "metadata": {},
   "outputs": [],
   "source": []
  }
 ],
 "metadata": {
  "kernelspec": {
   "display_name": "Python 3 (ipykernel)",
   "language": "python",
   "name": "python3"
  },
  "language_info": {
   "codemirror_mode": {
    "name": "ipython",
    "version": 3
   },
   "file_extension": ".py",
   "mimetype": "text/x-python",
   "name": "python",
   "nbconvert_exporter": "python",
   "pygments_lexer": "ipython3",
   "version": "3.11.3"
  }
 },
 "nbformat": 4,
 "nbformat_minor": 5
}
